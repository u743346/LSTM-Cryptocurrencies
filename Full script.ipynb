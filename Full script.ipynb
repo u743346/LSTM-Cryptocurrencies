{
 "cells": [
  {
   "cell_type": "markdown",
   "metadata": {},
   "source": [
    "# Full script for LSTM cryptocurrency prediction\n",
    "\n",
    "u743346\n",
    "<br>\n",
    "Gerlof Bremmer\n",
    "<br>\n",
    "g.d.bremmer@tilburguniversity.edu"
   ]
  },
  {
   "cell_type": "markdown",
   "metadata": {},
   "source": [
    "Import neccasary packages and set random seed for reproducability"
   ]
  },
  {
   "cell_type": "code",
   "execution_count": 2,
   "metadata": {
    "collapsed": false
   },
   "outputs": [
    {
     "name": "stderr",
     "output_type": "stream",
     "text": [
      "Using TensorFlow backend.\n"
     ]
    }
   ],
   "source": [
    "from math import sqrt\n",
    "import math\n",
    "\n",
    "import numpy as np\n",
    "from numpy import concatenate\n",
    "\n",
    "from vaderSentiment.vaderSentiment import SentimentIntensityAnalyzer\n",
    "\n",
    "import time\n",
    "\n",
    "from matplotlib import pyplot\n",
    "import matplotlib.pyplot as plt\n",
    "\n",
    "\n",
    "import pandas as pd\n",
    "from pandas import DataFrame\n",
    "from pandas import concat\n",
    "from pandas import Series\n",
    "from pandas import Panel\n",
    "\n",
    "from sklearn import preprocessing\n",
    "from sklearn.metrics import mean_squared_error\n",
    "from sklearn.metrics import mean_absolute_error\n",
    "from sklearn.preprocessing import MinMaxScaler\n",
    "\n",
    "\n",
    "import keras\n",
    "from keras.models import Sequential\n",
    "from keras.layers import Dense\n",
    "from keras.layers import Activation\n",
    "from keras.layers import Dropout\n",
    "from keras.layers import LSTM\n",
    "from keras.layers import Embedding\n",
    "from keras.wrappers.scikit_learn import KerasRegressor\n",
    "from keras import regularizers\n",
    "\n",
    "import tensorflow as tf"
   ]
  },
  {
   "cell_type": "code",
   "execution_count": 3,
   "metadata": {
    "collapsed": true
   },
   "outputs": [],
   "source": [
    "seed = 1337\n",
    "np.random.seed(seed)"
   ]
  },
  {
   "cell_type": "markdown",
   "metadata": {},
   "source": [
    "pylab inline to show graphs inline"
   ]
  },
  {
   "cell_type": "code",
   "execution_count": 4,
   "metadata": {
    "collapsed": false
   },
   "outputs": [
    {
     "name": "stdout",
     "output_type": "stream",
     "text": [
      "Populating the interactive namespace from numpy and matplotlib\n"
     ]
    },
    {
     "name": "stderr",
     "output_type": "stream",
     "text": [
      "/Users/gerlofbremmer/anaconda/lib/python3.5/site-packages/IPython/core/magics/pylab.py:161: UserWarning: pylab import has clobbered these variables: ['seed', 'sqrt']\n",
      "`%matplotlib` prevents importing * from pylab and numpy\n",
      "  \"\\n`%matplotlib` prevents importing * from pylab and numpy\"\n"
     ]
    }
   ],
   "source": [
    "%pylab inline"
   ]
  },
  {
   "cell_type": "markdown",
   "metadata": {},
   "source": [
    "# 1. Comment data pre-processing and sentiment calculation"
   ]
  },
  {
   "cell_type": "markdown",
   "metadata": {},
   "source": [
    "Load scraped data json"
   ]
  },
  {
   "cell_type": "code",
   "execution_count": null,
   "metadata": {
    "collapsed": true
   },
   "outputs": [],
   "source": [
    "ltc = pd.read_json('ltc.json', lines=True)\n",
    "xrp = pd.read_json('xrp.json', lines=True)\n",
    "eth = pd.read_json('eth.json', lines=True)"
   ]
  },
  {
   "cell_type": "markdown",
   "metadata": {},
   "source": [
    "Exploration"
   ]
  },
  {
   "cell_type": "code",
   "execution_count": null,
   "metadata": {
    "collapsed": true
   },
   "outputs": [],
   "source": [
    "ltc.info()\n",
    "eth.info()\n",
    "xrp.info()"
   ]
  },
  {
   "cell_type": "markdown",
   "metadata": {},
   "source": [
    "Test if all comment ID's are unique"
   ]
  },
  {
   "cell_type": "code",
   "execution_count": null,
   "metadata": {
    "collapsed": true
   },
   "outputs": [],
   "source": [
    "def unique(df):\n",
    "    return df.id.nunique()\n",
    "\n",
    "print(unique(ltc))\n",
    "print(unique(eth))\n",
    "print(unique(xrp))"
   ]
  },
  {
   "cell_type": "markdown",
   "metadata": {},
   "source": [
    "Filtering the dataset to only usefull columns"
   ]
  },
  {
   "cell_type": "code",
   "execution_count": null,
   "metadata": {
    "collapsed": true
   },
   "outputs": [],
   "source": [
    "def filter_col(df, cols):\n",
    "    return df.drop(df.columns[[cols]], axis=1)\n",
    "\n",
    "ltc = filter_col(ltc, [0,2,3,4,5,6,7,8,9,11,12,13,14,15,16,18,19,20,22,23,24,25,26,27,28,29,30,31,32,33,35,36,37,38,39])\n",
    "eth = filter_col(eth, [0,2,3,4,5,6,7,8,9,11,12,13,14,15,16,18,19,20,22,23,24,25,26,27,28,29,30,31,32,33,35,36,37,38,39])\n",
    "xrp = filter_col(xrp, [0,2,3,4,5,6,7,8,9,11,12,13,14,15,16,18,19,20,22,23,24,25,26,27,28,29,30,31,32,33,35,36,37,38,39])\n"
   ]
  },
  {
   "cell_type": "markdown",
   "metadata": {},
   "source": [
    "Drop comments from before 01-01-2016 = after epoch 1451606401 & before 1514764799"
   ]
  },
  {
   "cell_type": "code",
   "execution_count": null,
   "metadata": {
    "collapsed": true
   },
   "outputs": [],
   "source": [
    "ltc = ltc[ltc['created_utc'] >= 1451606401]\n",
    "ltc = ltc[ltc['created_utc'] <= 1514764799]\n",
    "eth = eth[eth['created_utc'] >= 1451606401]\n",
    "eth = eth[eth['created_utc'] <= 1514764799]\n",
    "xrp = xrp[xrp['created_utc'] >= 1451606401]\n",
    "xrp = xrp[xrp['created_utc'] <= 1514764799]"
   ]
  },
  {
   "cell_type": "markdown",
   "metadata": {},
   "source": [
    "Change created_utc to readble datetime"
   ]
  },
  {
   "cell_type": "code",
   "execution_count": null,
   "metadata": {
    "collapsed": true
   },
   "outputs": [],
   "source": [
    "def to_datetime(df):\n",
    "    return pd.to_datetime(df['created_utc'],unit='s')\n",
    "\n",
    "ltc['datetime'] = to_datetime(ltc)\n",
    "eth['datetime'] = to_datetime(eth)\n",
    "xrp['datetime'] = to_datetime(xrp)"
   ]
  },
  {
   "cell_type": "markdown",
   "metadata": {},
   "source": [
    "Remove 'removed' and 'deleted' comments"
   ]
  },
  {
   "cell_type": "code",
   "execution_count": null,
   "metadata": {
    "collapsed": true
   },
   "outputs": [],
   "source": [
    "ltc = ltc[ltc.body != '[removed]']\n",
    "ltc = ltc[ltc.body != '[deleted]']\n",
    "xrp = xrp[xrp.body != '[removed]']\n",
    "xrp = xrp[xrp.body != '[deleted]']\n",
    "eth = eth[eth.body != '[removed]']\n",
    "eth = eth[eth.body != '[deleted]']"
   ]
  },
  {
   "cell_type": "markdown",
   "metadata": {},
   "source": [
    "Perform VADER sentiment analysis on every sentence; new columns: compound, negative, neutral, positive\n",
    "<br>\n",
    "NOTE: computational extensive process"
   ]
  },
  {
   "cell_type": "code",
   "execution_count": null,
   "metadata": {
    "collapsed": true
   },
   "outputs": [],
   "source": [
    "\n",
    "analyzer = SentimentIntensityAnalyzer()\n",
    "ltc[['compound','neg','neu','pos']] = ltc['body'].apply(lambda body: pd.Series(analyzer.polarity_scores(body)))\n",
    "xrp[['compound','neg','neu','pos']] = xrp['body'].apply(lambda body: pd.Series(analyzer.polarity_scores(body)))\n",
    "eth[['compound','neg','neu','pos']] = eth['body'].apply(lambda body: pd.Series(analyzer.polarity_scores(body)))\n",
    "                                                               "
   ]
  },
  {
   "cell_type": "markdown",
   "metadata": {},
   "source": [
    "grouping the data on datetime (day) simoultaniously calculating mean of sentiment scores + drop nan values\n",
    "\n",
    "resulting in 730 entries for LTC and ETH and 538 days for XRP"
   ]
  },
  {
   "cell_type": "code",
   "execution_count": null,
   "metadata": {
    "collapsed": true
   },
   "outputs": [],
   "source": [
    "\n",
    "def mean_grouping(df):\n",
    "    return df.set_index('datetime').groupby(pd.TimeGrouper('D')).mean().dropna()\n",
    "\n",
    "ltccomment = mean_grouping(ltc)\n",
    "xrpcomment = mean_grouping(xrp)\n",
    "ethcomment = mean_grouping(eth)\n"
   ]
  },
  {
   "cell_type": "markdown",
   "metadata": {},
   "source": [
    "Counting number of comments per day and adding column numcomments"
   ]
  },
  {
   "cell_type": "code",
   "execution_count": null,
   "metadata": {
    "collapsed": true
   },
   "outputs": [],
   "source": [
    "\n",
    "def comment_count(df):\n",
    "    return df.set_index('datetime').resample('D').size()\n",
    "    \n",
    "ltccomment['numcomments'] = comment_count(ltc)\n",
    "xrpcomment['numcomments'] = comment_count(xrp)\n",
    "ethcomment['numcomments'] = comment_count(eth)\n"
   ]
  },
  {
   "cell_type": "markdown",
   "metadata": {},
   "source": [
    "Mean, max, min for sentiment compound and karma score of comments"
   ]
  },
  {
   "cell_type": "code",
   "execution_count": null,
   "metadata": {
    "collapsed": true
   },
   "outputs": [],
   "source": [
    "\n",
    "def min_max_mean(coin, df):\n",
    "    print(\"Minumum compound \", coin,\" :\" ,df['compound'].min())\n",
    "    print(\"Maximum compound \", coin,\" :\" ,df['compound'].max())\n",
    "    print(\"Mean of compound \", coin,\" :\" ,df['compound'].mean())\n",
    "    print(\"\\n\")\n",
    "    \n",
    "min_max_mean('LTC', ltc)\n",
    "min_max_mean('ETH', eth)\n",
    "min_max_mean('XRP', xrp)"
   ]
  },
  {
   "cell_type": "code",
   "execution_count": null,
   "metadata": {
    "collapsed": true
   },
   "outputs": [],
   "source": [
    "def min_max_score(coin, df):\n",
    "    print(\"Minumum score\",coin,\" : \" ,df['score'].min())\n",
    "    print(\"Maximum score\",coin,\" : \" ,df['score'].max())\n",
    "    print(\"\\n\")\n",
    "    \n",
    "min_max_score('LTC', ltc)\n",
    "min_max_score('ETH', eth)\n",
    "min_max_score('XRP', xrp)"
   ]
  },
  {
   "cell_type": "markdown",
   "metadata": {},
   "source": [
    "Saving DF with sentiment as pickle for later analysis"
   ]
  },
  {
   "cell_type": "code",
   "execution_count": null,
   "metadata": {
    "collapsed": true
   },
   "outputs": [],
   "source": [
    "ltccomment.to_pickle('Litecoin2016-17.pkl')\n",
    "ethcomment.to_pickle('Ethereum2016-17.pkl')\n",
    "xrpcomment.to_pickle('Ripple2016-17.pkl')"
   ]
  },
  {
   "cell_type": "markdown",
   "metadata": {},
   "source": [
    "# 2. Price data pre-processing"
   ]
  },
  {
   "cell_type": "markdown",
   "metadata": {},
   "source": [
    "Read in prices.csv"
   ]
  },
  {
   "cell_type": "code",
   "execution_count": null,
   "metadata": {
    "collapsed": true
   },
   "outputs": [],
   "source": [
    "prices = pd.read_csv(\"prices.csv\" , parse_dates= ['date'])"
   ]
  },
  {
   "cell_type": "markdown",
   "metadata": {},
   "source": [
    "Exploration"
   ]
  },
  {
   "cell_type": "code",
   "execution_count": null,
   "metadata": {
    "collapsed": true
   },
   "outputs": [],
   "source": [
    "prices.info()\n",
    "prices[0:100]\n",
    "prices.loc[prices['symbol'] == 'XRP']"
   ]
  },
  {
   "cell_type": "markdown",
   "metadata": {},
   "source": [
    "Creating 3 datasets with date as index (corrosponding to sentiment data)"
   ]
  },
  {
   "cell_type": "code",
   "execution_count": null,
   "metadata": {
    "collapsed": true
   },
   "outputs": [],
   "source": [
    "def date_index(df, coin):\n",
    "    return df[df['symbol'] == coin].set_index('date')\n",
    "\n",
    "pricesLTC = date_index(prices, 'LTC')\n",
    "pricesETH = date_index(prices, 'ETH')\n",
    "pricesXRP = date_index(prices, 'XRP')"
   ]
  },
  {
   "cell_type": "markdown",
   "metadata": {},
   "source": [
    "Filter date only 01-01-2016 to 31-12-2017"
   ]
  },
  {
   "cell_type": "code",
   "execution_count": null,
   "metadata": {
    "collapsed": true
   },
   "outputs": [],
   "source": [
    "def filter_date(df, after, before):\n",
    "    return df.ix[after:before]\n",
    "\n",
    "pricesLTC = filter_date(pricesLTC, '2016-01-01','2017-12-31')\n",
    "pricesETH = filter_date(pricesETH, '2016-01-01','2017-12-31')\n",
    "pricesXRP = filter_date(pricesXRP, '2016-01-01','2017-12-31')"
   ]
  },
  {
   "cell_type": "markdown",
   "metadata": {},
   "source": [
    "Calculate extra variables and add as new columns"
   ]
  },
  {
   "cell_type": "code",
   "execution_count": null,
   "metadata": {
    "collapsed": true
   },
   "outputs": [],
   "source": [
    "def operations(df):\n",
    "    scaler = MinMaxScaler(feature_range=(-1, 1))\n",
    "    df['prices'] = df[['open', 'close','high','low']].mean(axis=1)\n",
    "    df['delta_day'] = df['high'] - df['low']\n",
    "    df['fluctuation'] = 0\n",
    "    df['fluctuation'] = df.delta_day.diff().fillna(0)\n",
    "    df['norm_fluctuation'] = 0\n",
    "    df['norm_fluctuation'] = scaler.fit_transform(df[['fluctuation']])\n",
    "    df['pct_change']= df['prices'].pct_change()\n",
    "    df['log_pct_change'] = np.log(df['prices'].astype('float64')/df['prices'].astype('float64').shift(1))\n",
    "    #df['norm_compound'] = 0\n",
    "    #df['norm_compound'] = scaler.fit_transform(df[['compound']])\n",
    "    \n",
    "operations(pricesLTC)\n",
    "operations(pricesETH)\n",
    "operations(pricesXRP)"
   ]
  },
  {
   "cell_type": "markdown",
   "metadata": {},
   "source": [
    "Save price data to pickle for merging with sentiment data"
   ]
  },
  {
   "cell_type": "code",
   "execution_count": null,
   "metadata": {
    "collapsed": true
   },
   "outputs": [],
   "source": [
    "pricesLTC.to_pickle('pricesLTC2016-17.pkl')\n",
    "pricesXRP.to_pickle('pricesXRP2016-17.pkl')\n",
    "pricesETH.to_pickle('pricesETH2016-17.pkl')"
   ]
  },
  {
   "cell_type": "markdown",
   "metadata": {
    "collapsed": true
   },
   "source": [
    "# 3. Merging, corrolation and visualization"
   ]
  },
  {
   "cell_type": "markdown",
   "metadata": {
    "collapsed": true
   },
   "source": [
    "Import comment data and price data"
   ]
  },
  {
   "cell_type": "code",
   "execution_count": null,
   "metadata": {
    "collapsed": true
   },
   "outputs": [],
   "source": [
    "ltc = pd.read_pickle('Litecoin2016-17.pkl')\n",
    "eth = pd.read_pickle('Ethereum2016-17.pkl')\n",
    "xrp = pd.read_pickle('Ripple2016-17.pkl')\n",
    "\n",
    "\n",
    "priceltc = pd.read_pickle('pricesLTC2016-17.pkl')\n",
    "pricexrp = pd.read_pickle('pricesXRP2016-17.pkl')\n",
    "priceeth = pd.read_pickle('pricesETH2016-17.pkl')"
   ]
  },
  {
   "cell_type": "markdown",
   "metadata": {
    "collapsed": true
   },
   "source": [
    "Merge datasets on index"
   ]
  },
  {
   "cell_type": "code",
   "execution_count": null,
   "metadata": {
    "collapsed": true
   },
   "outputs": [],
   "source": [
    "def merge(leftdf, rightdf):\n",
    "    return pd.merge(leftdf,rightdf, how='inner', left_index=True, right_index=True)\n",
    "    \n",
    "\n",
    "mergeltc = merge(priceltc, ltc)\n",
    "mergeeth = merge(priceeth, eth)\n",
    "mergexrp = merge(pricexrp, xrp)"
   ]
  },
  {
   "cell_type": "markdown",
   "metadata": {},
   "source": [
    "Output the corrolation matrix between variables"
   ]
  },
  {
   "cell_type": "code",
   "execution_count": null,
   "metadata": {
    "collapsed": true
   },
   "outputs": [],
   "source": [
    "def corr_matrix(df):\n",
    "    df = df[['prices','volume','delta_day', 'compound', 'numcomments']]\n",
    "    return df.corr(method='pearson')\n",
    "    \n",
    "corr_matrix(eth)"
   ]
  },
  {
   "cell_type": "markdown",
   "metadata": {},
   "source": [
    "Display top corrolations"
   ]
  },
  {
   "cell_type": "code",
   "execution_count": null,
   "metadata": {
    "collapsed": true
   },
   "outputs": [],
   "source": [
    "def correlation_top(df):\n",
    "    corre = df.corr(method='pearson')\n",
    "    c1 = corre.abs().unstack()\n",
    "    results = c1.sort_values(ascending = False)\n",
    "    print(results[0:150])\n",
    "    \n",
    "correlation_top(xrp)"
   ]
  },
  {
   "cell_type": "code",
   "execution_count": null,
   "metadata": {
    "collapsed": true
   },
   "outputs": [],
   "source": []
  },
  {
   "cell_type": "code",
   "execution_count": null,
   "metadata": {
    "collapsed": true
   },
   "outputs": [],
   "source": []
  },
  {
   "cell_type": "markdown",
   "metadata": {
    "collapsed": true
   },
   "source": [
    "Set size of plot to fixed size 15x9"
   ]
  },
  {
   "cell_type": "code",
   "execution_count": 25,
   "metadata": {
    "collapsed": true
   },
   "outputs": [],
   "source": [
    "fig_size = plt.rcParams[\"figure.figsize\"]\n",
    "fig_size[0] = 15\n",
    "fig_size[1] = 9\n",
    "plt.rcParams[\"figure.figsize\"] = fig_size"
   ]
  },
  {
   "cell_type": "code",
   "execution_count": null,
   "metadata": {
    "collapsed": true
   },
   "outputs": [],
   "source": []
  },
  {
   "cell_type": "markdown",
   "metadata": {
    "collapsed": true
   },
   "source": [
    "# 4. LSTM prediction"
   ]
  },
  {
   "cell_type": "markdown",
   "metadata": {
    "collapsed": true
   },
   "source": [
    "Load the datasets for analysis"
   ]
  },
  {
   "cell_type": "code",
   "execution_count": 16,
   "metadata": {
    "collapsed": false
   },
   "outputs": [],
   "source": [
    "ltc = pd.read_pickle('mergeLTC2016-17.pkl')\n",
    "eth = pd.read_pickle('mergeETH2016-17.pkl')\n",
    "xrp = pd.read_pickle('mergeXRP2016-17.pkl')"
   ]
  },
  {
   "cell_type": "markdown",
   "metadata": {
    "collapsed": true
   },
   "source": [
    "Steps for choosing the analysis:\n",
    "<br>\n",
    "- Copy data of cryptocurrency to temporary df\n",
    "- Specify the input variables as string in function call\n",
    "<br>\n",
    "eg: prices = 1 lag day prices, compound = 1 lag day compound\n",
    "<br>\n",
    "All variables:\n",
    "df = choose_crypto(ltc ,'prices','compound', 'numcomments')"
   ]
  },
  {
   "cell_type": "code",
   "execution_count": 17,
   "metadata": {
    "collapsed": false
   },
   "outputs": [],
   "source": [
    "\n",
    "def choose_crypto(crypto, *vars):\n",
    "    df = crypto\n",
    "    if len(vars) == 4:\n",
    "        df = df[[vars[0],vars[1],vars[2],vars[3]]]\n",
    "    elif len(vars) == 3:\n",
    "        df = df[[vars[0],vars[1],vars[2]]]\n",
    "    elif len(vars) == 2:\n",
    "        df = df[[vars[0],vars[1]]]\n",
    "    else:\n",
    "        df = df[[vars[0]]]\n",
    "    return df\n",
    "\n",
    "df = choose_crypto(eth, 'prices' )"
   ]
  },
  {
   "cell_type": "markdown",
   "metadata": {
    "collapsed": true
   },
   "source": [
    "- Load dataset as values\n",
    "- Ensure all data is float\n",
    "- Normalize features using MinMaxScaler"
   ]
  },
  {
   "cell_type": "code",
   "execution_count": 18,
   "metadata": {
    "collapsed": false
   },
   "outputs": [],
   "source": [
    "values = df.values\n",
    "values = values.astype('float32')\n",
    "scaler = MinMaxScaler(feature_range=(0, 1))\n",
    "scaled = scaler.fit_transform(values)"
   ]
  },
  {
   "cell_type": "markdown",
   "metadata": {
    "collapsed": true
   },
   "source": [
    "- Specify the number of lag days and features above function\n",
    "<br>\n",
    "INCORRECT n_features AND n_days WILL RESULT IN ERROR"
   ]
  },
  {
   "cell_type": "code",
   "execution_count": 19,
   "metadata": {
    "collapsed": false
   },
   "outputs": [
    {
     "name": "stdout",
     "output_type": "stream",
     "text": [
      "(730, 2)\n",
      "   var1(t-1)   var1(t)\n",
      "1   0.000000  0.000007\n",
      "2   0.000007  0.000021\n",
      "3   0.000021  0.000020\n",
      "4   0.000020  0.000016\n",
      "5   0.000016  0.000009 \n",
      "\n"
     ]
    }
   ],
   "source": [
    "\n",
    "n_days = 1\n",
    "n_features = 1\n",
    "\n",
    "# convert series to supervised learning by shifting t-1, t-2, t-3 depending on lag of days\n",
    "def series_to_supervised(data, n_in=1, n_out=1, dropnan=True):\n",
    "    n_vars = 1 if type(data) is list else data.shape[1]\n",
    "    df = DataFrame(data)\n",
    "    cols, names = list(), list()\n",
    "    #input sequence (t-n, ... t-1)\n",
    "    for i in range(n_in, 0, -1):\n",
    "        cols.append(df.shift(i))\n",
    "        names += [('var%d(t-%d)' % (j+1, i)) for j in range(n_vars)]\n",
    "    #forecast sequence (t, t+1, ... t+n)\n",
    "    for i in range(0, n_out):\n",
    "        cols.append(df.shift(-i))\n",
    "        if i == 0:\n",
    "            names += [('var%d(t)' % (j+1)) for j in range(n_vars)]\n",
    "        else:\n",
    "            names += [('var%d(t+%d)' % (j+1, i)) for j in range(n_vars)]\n",
    "    \n",
    "    agg = concat(cols, axis=1)\n",
    "    agg.columns = names\n",
    "    # drop rows with NaN values\n",
    "    if dropnan:\n",
    "        agg.dropna(inplace=True)\n",
    "    return agg\n",
    "\n",
    "\n",
    "# frame as supervised learning\n",
    "reframed = series_to_supervised(scaled, n_days,1)\n",
    "\n",
    "print(reframed.shape)\n",
    "print(reframed.head(), '\\n')\n",
    "\n",
    "if df.shape[1] != n_features:\n",
    "    print('ERROR: n_features must match input variables')"
   ]
  },
  {
   "cell_type": "markdown",
   "metadata": {
    "collapsed": true
   },
   "source": [
    "- Split into train and test sets\n",
    "<br>\n",
    "- Reshape input to be 3D [samples, timesteps, features]"
   ]
  },
  {
   "cell_type": "code",
   "execution_count": 20,
   "metadata": {
    "collapsed": false
   },
   "outputs": [
    {
     "name": "stdout",
     "output_type": "stream",
     "text": [
      "(584, 1) 584 (584,)\n",
      "(584, 1, 1) (584,) (146, 1, 1) (146,)\n"
     ]
    },
    {
     "name": "stderr",
     "output_type": "stream",
     "text": [
      "/Users/gerlofbremmer/anaconda/lib/python3.5/site-packages/ipykernel/__main__.py:3: VisibleDeprecationWarning: using a non-integer number instead of an integer will result in an error in the future\n",
      "  app.launch_new_instance()\n",
      "/Users/gerlofbremmer/anaconda/lib/python3.5/site-packages/ipykernel/__main__.py:4: VisibleDeprecationWarning: using a non-integer number instead of an integer will result in an error in the future\n"
     ]
    }
   ],
   "source": [
    "values = reframed.values\n",
    "n_train_days = 0.8*len(reframed)\n",
    "train = values[:n_train_days, :]\n",
    "test = values[n_train_days:, :]\n",
    "\n",
    "#split into input and outputs\n",
    "n_obs = n_days * n_features\n",
    "train_X, train_y = train[:, :n_obs], train[:, -n_features]\n",
    "test_X, test_y = test[:, :n_obs], test[:, -n_features]\n",
    "print(train_X.shape, len(train_X), train_y.shape)\n",
    "\n",
    "train_X = train_X.reshape((train_X.shape[0], n_days, n_features))\n",
    "test_X = test_X.reshape((test_X.shape[0], n_days, n_features))\n",
    "print(train_X.shape, train_y.shape, test_X.shape, test_y.shape)\n",
    "\n",
    "if df.shape[1] != n_features:\n",
    "    print('ERROR: n_features must match input variables')"
   ]
  },
  {
   "cell_type": "markdown",
   "metadata": {
    "collapsed": true
   },
   "source": [
    "Compile the LSTM model"
   ]
  },
  {
   "cell_type": "code",
   "execution_count": 21,
   "metadata": {
    "collapsed": false
   },
   "outputs": [
    {
     "name": "stdout",
     "output_type": "stream",
     "text": [
      "_________________________________________________________________\n",
      "Layer (type)                 Output Shape              Param #   \n",
      "=================================================================\n",
      "lstm_2 (LSTM)                (None, 20)                1760      \n",
      "_________________________________________________________________\n",
      "dense_2 (Dense)              (None, 1)                 21        \n",
      "=================================================================\n",
      "Total params: 1,781\n",
      "Trainable params: 1,781\n",
      "Non-trainable params: 0\n",
      "_________________________________________________________________\n"
     ]
    }
   ],
   "source": [
    "model = Sequential()\n",
    "model.add(LSTM(20, input_shape=(train_X.shape[1], train_X.shape[2])))\n",
    "model.add(Dense(1))\n",
    "model.compile(loss='mae', optimizer='adam')\n",
    "model.summary()\n"
   ]
  },
  {
   "cell_type": "markdown",
   "metadata": {
    "collapsed": true
   },
   "source": [
    "Fit the model and plot the losses"
   ]
  },
  {
   "cell_type": "code",
   "execution_count": 22,
   "metadata": {
    "collapsed": false
   },
   "outputs": [
    {
     "name": "stdout",
     "output_type": "stream",
     "text": [
      "Train on 584 samples, validate on 146 samples\n",
      "Epoch 1/130\n",
      "584/584 [==============================] - 1s 872us/step - loss: 0.0436 - val_loss: 0.3883\n",
      "Epoch 2/130\n",
      "584/584 [==============================] - 0s 173us/step - loss: 0.0460 - val_loss: 0.3830\n",
      "Epoch 3/130\n",
      "584/584 [==============================] - 0s 163us/step - loss: 0.0453 - val_loss: 0.3833\n",
      "Epoch 4/130\n",
      "584/584 [==============================] - 0s 161us/step - loss: 0.0426 - val_loss: 0.3831\n",
      "Epoch 5/130\n",
      "584/584 [==============================] - 0s 166us/step - loss: 0.0411 - val_loss: 0.3746\n",
      "Epoch 6/130\n",
      "584/584 [==============================] - 0s 179us/step - loss: 0.0412 - val_loss: 0.3696\n",
      "Epoch 7/130\n",
      "584/584 [==============================] - 0s 162us/step - loss: 0.0405 - val_loss: 0.3666\n",
      "Epoch 8/130\n",
      "584/584 [==============================] - 0s 161us/step - loss: 0.0393 - val_loss: 0.3597\n",
      "Epoch 9/130\n",
      "584/584 [==============================] - 0s 160us/step - loss: 0.0393 - val_loss: 0.3551\n",
      "Epoch 10/130\n",
      "584/584 [==============================] - 0s 187us/step - loss: 0.0385 - val_loss: 0.3500\n",
      "Epoch 11/130\n",
      "584/584 [==============================] - 0s 181us/step - loss: 0.0378 - val_loss: 0.3440\n",
      "Epoch 12/130\n",
      "584/584 [==============================] - 0s 178us/step - loss: 0.0373 - val_loss: 0.3385\n",
      "Epoch 13/130\n",
      "584/584 [==============================] - 0s 192us/step - loss: 0.0367 - val_loss: 0.3326\n",
      "Epoch 14/130\n",
      "584/584 [==============================] - 0s 312us/step - loss: 0.0360 - val_loss: 0.3265\n",
      "Epoch 15/130\n",
      "584/584 [==============================] - 0s 196us/step - loss: 0.0354 - val_loss: 0.3202\n",
      "Epoch 16/130\n",
      "584/584 [==============================] - 0s 231us/step - loss: 0.0347 - val_loss: 0.3137\n",
      "Epoch 17/130\n",
      "584/584 [==============================] - 0s 239us/step - loss: 0.0340 - val_loss: 0.3069\n",
      "Epoch 18/130\n",
      "584/584 [==============================] - 0s 197us/step - loss: 0.0333 - val_loss: 0.3000\n",
      "Epoch 19/130\n",
      "584/584 [==============================] - 0s 203us/step - loss: 0.0325 - val_loss: 0.2926\n",
      "Epoch 20/130\n",
      "584/584 [==============================] - 0s 173us/step - loss: 0.0318 - val_loss: 0.2852\n",
      "Epoch 21/130\n",
      "584/584 [==============================] - 0s 156us/step - loss: 0.0309 - val_loss: 0.2772\n",
      "Epoch 22/130\n",
      "584/584 [==============================] - 0s 159us/step - loss: 0.0302 - val_loss: 0.2694\n",
      "Epoch 23/130\n",
      "584/584 [==============================] - 0s 168us/step - loss: 0.0292 - val_loss: 0.2605\n",
      "Epoch 24/130\n",
      "584/584 [==============================] - 0s 184us/step - loss: 0.0285 - val_loss: 0.2525\n",
      "Epoch 25/130\n",
      "584/584 [==============================] - 0s 156us/step - loss: 0.0273 - val_loss: 0.2421\n",
      "Epoch 26/130\n",
      "584/584 [==============================] - 0s 155us/step - loss: 0.0269 - val_loss: 0.2346\n",
      "Epoch 27/130\n",
      "584/584 [==============================] - 0s 154us/step - loss: 0.0250 - val_loss: 0.2210\n",
      "Epoch 28/130\n",
      "584/584 [==============================] - 0s 171us/step - loss: 0.0258 - val_loss: 0.2139\n",
      "Epoch 29/130\n",
      "584/584 [==============================] - 0s 154us/step - loss: 0.0232 - val_loss: 0.2015\n",
      "Epoch 30/130\n",
      "584/584 [==============================] - 0s 151us/step - loss: 0.0232 - val_loss: 0.1937\n",
      "Epoch 31/130\n",
      "584/584 [==============================] - 0s 150us/step - loss: 0.0206 - val_loss: 0.1778\n",
      "Epoch 32/130\n",
      "584/584 [==============================] - 0s 152us/step - loss: 0.0217 - val_loss: 0.1692\n",
      "Epoch 33/130\n",
      "584/584 [==============================] - 0s 153us/step - loss: 0.0186 - val_loss: 0.1559\n",
      "Epoch 34/130\n",
      "584/584 [==============================] - 0s 153us/step - loss: 0.0185 - val_loss: 0.1465\n",
      "Epoch 35/130\n",
      "584/584 [==============================] - 0s 150us/step - loss: 0.0156 - val_loss: 0.1284\n",
      "Epoch 36/130\n",
      "584/584 [==============================] - 0s 150us/step - loss: 0.0168 - val_loss: 0.1190\n",
      "Epoch 37/130\n",
      "584/584 [==============================] - 0s 150us/step - loss: 0.0131 - val_loss: 0.1024\n",
      "Epoch 38/130\n",
      "584/584 [==============================] - 0s 205us/step - loss: 0.0135 - val_loss: 0.0921\n",
      "Epoch 39/130\n",
      "584/584 [==============================] - 0s 212us/step - loss: 0.0100 - val_loss: 0.0729\n",
      "Epoch 40/130\n",
      "584/584 [==============================] - 0s 185us/step - loss: 0.0109 - val_loss: 0.0627\n",
      "Epoch 41/130\n",
      "584/584 [==============================] - 0s 191us/step - loss: 0.0070 - val_loss: 0.0438\n",
      "Epoch 42/130\n",
      "584/584 [==============================] - 0s 182us/step - loss: 0.0074 - val_loss: 0.0341\n",
      "Epoch 43/130\n",
      "584/584 [==============================] - 0s 184us/step - loss: 0.0045 - val_loss: 0.0207\n",
      "Epoch 44/130\n",
      "584/584 [==============================] - 0s 213us/step - loss: 0.0049 - val_loss: 0.0188\n",
      "Epoch 45/130\n",
      "584/584 [==============================] - 0s 174us/step - loss: 0.0036 - val_loss: 0.0202\n",
      "Epoch 46/130\n",
      "584/584 [==============================] - 0s 162us/step - loss: 0.0032 - val_loss: 0.0254\n",
      "Epoch 47/130\n",
      "584/584 [==============================] - 0s 166us/step - loss: 0.0037 - val_loss: 0.0258\n",
      "Epoch 48/130\n",
      "584/584 [==============================] - 0s 167us/step - loss: 0.0035 - val_loss: 0.0249\n",
      "Epoch 49/130\n",
      "584/584 [==============================] - 0s 213us/step - loss: 0.0035 - val_loss: 0.0231\n",
      "Epoch 50/130\n",
      "584/584 [==============================] - 0s 173us/step - loss: 0.0034 - val_loss: 0.0221\n",
      "Epoch 51/130\n",
      "584/584 [==============================] - 0s 186us/step - loss: 0.0039 - val_loss: 0.0210\n",
      "Epoch 52/130\n",
      "584/584 [==============================] - 0s 155us/step - loss: 0.0031 - val_loss: 0.0227\n",
      "Epoch 53/130\n",
      "584/584 [==============================] - 0s 153us/step - loss: 0.0032 - val_loss: 0.0234\n",
      "Epoch 54/130\n",
      "584/584 [==============================] - 0s 164us/step - loss: 0.0046 - val_loss: 0.0197\n",
      "Epoch 55/130\n",
      "584/584 [==============================] - 0s 162us/step - loss: 0.0039 - val_loss: 0.0235\n",
      "Epoch 56/130\n",
      "584/584 [==============================] - 0s 159us/step - loss: 0.0033 - val_loss: 0.0243\n",
      "Epoch 57/130\n",
      "584/584 [==============================] - 0s 152us/step - loss: 0.0041 - val_loss: 0.0213\n",
      "Epoch 58/130\n",
      "584/584 [==============================] - 0s 153us/step - loss: 0.0033 - val_loss: 0.0221\n",
      "Epoch 59/130\n",
      "584/584 [==============================] - 0s 158us/step - loss: 0.0031 - val_loss: 0.0227\n",
      "Epoch 60/130\n",
      "584/584 [==============================] - 0s 152us/step - loss: 0.0031 - val_loss: 0.0219\n",
      "Epoch 61/130\n",
      "584/584 [==============================] - 0s 155us/step - loss: 0.0031 - val_loss: 0.0217\n",
      "Epoch 62/130\n",
      "584/584 [==============================] - 0s 156us/step - loss: 0.0040 - val_loss: 0.0203\n",
      "Epoch 63/130\n",
      "584/584 [==============================] - 0s 156us/step - loss: 0.0033 - val_loss: 0.0222\n",
      "Epoch 64/130\n",
      "584/584 [==============================] - 0s 153us/step - loss: 0.0032 - val_loss: 0.0229\n",
      "Epoch 65/130\n",
      "584/584 [==============================] - 0s 149us/step - loss: 0.0031 - val_loss: 0.0224\n",
      "Epoch 66/130\n",
      "584/584 [==============================] - 0s 156us/step - loss: 0.0031 - val_loss: 0.0216\n",
      "Epoch 67/130\n",
      "584/584 [==============================] - 0s 161us/step - loss: 0.0033 - val_loss: 0.0216\n",
      "Epoch 68/130\n",
      "584/584 [==============================] - 0s 158us/step - loss: 0.0040 - val_loss: 0.0197\n",
      "Epoch 69/130\n",
      "584/584 [==============================] - 0s 158us/step - loss: 0.0032 - val_loss: 0.0216\n",
      "Epoch 70/130\n",
      "584/584 [==============================] - 0s 159us/step - loss: 0.0032 - val_loss: 0.0227\n",
      "Epoch 71/130\n",
      "584/584 [==============================] - 0s 168us/step - loss: 0.0030 - val_loss: 0.0224\n",
      "Epoch 72/130\n",
      "584/584 [==============================] - 0s 190us/step - loss: 0.0032 - val_loss: 0.0223\n",
      "Epoch 73/130\n",
      "584/584 [==============================] - 0s 162us/step - loss: 0.0046 - val_loss: 0.0187\n",
      "Epoch 74/130\n",
      "584/584 [==============================] - 0s 161us/step - loss: 0.0039 - val_loss: 0.0222\n",
      "Epoch 75/130\n",
      "584/584 [==============================] - 0s 162us/step - loss: 0.0032 - val_loss: 0.0226\n",
      "Epoch 76/130\n",
      "584/584 [==============================] - 0s 161us/step - loss: 0.0039 - val_loss: 0.0200\n",
      "Epoch 77/130\n",
      "584/584 [==============================] - 0s 160us/step - loss: 0.0032 - val_loss: 0.0210\n",
      "Epoch 78/130\n",
      "584/584 [==============================] - 0s 159us/step - loss: 0.0031 - val_loss: 0.0218\n",
      "Epoch 79/130\n",
      "584/584 [==============================] - 0s 158us/step - loss: 0.0030 - val_loss: 0.0223\n",
      "Epoch 80/130\n",
      "584/584 [==============================] - 0s 159us/step - loss: 0.0032 - val_loss: 0.0222\n",
      "Epoch 81/130\n",
      "584/584 [==============================] - 0s 160us/step - loss: 0.0043 - val_loss: 0.0188\n",
      "Epoch 82/130\n",
      "584/584 [==============================] - 0s 158us/step - loss: 0.0036 - val_loss: 0.0209\n",
      "Epoch 83/130\n",
      "584/584 [==============================] - 0s 157us/step - loss: 0.0031 - val_loss: 0.0214\n",
      "Epoch 84/130\n",
      "584/584 [==============================] - 0s 152us/step - loss: 0.0030 - val_loss: 0.0207\n",
      "Epoch 85/130\n",
      "584/584 [==============================] - 0s 161us/step - loss: 0.0031 - val_loss: 0.0210\n",
      "Epoch 86/130\n",
      "584/584 [==============================] - 0s 153us/step - loss: 0.0033 - val_loss: 0.0206\n",
      "Epoch 87/130\n",
      "584/584 [==============================] - 0s 165us/step - loss: 0.0044 - val_loss: 0.0186\n",
      "Epoch 88/130\n",
      "584/584 [==============================] - 0s 154us/step - loss: 0.0038 - val_loss: 0.0221\n",
      "Epoch 89/130\n",
      "584/584 [==============================] - 0s 162us/step - loss: 0.0031 - val_loss: 0.0218\n",
      "Epoch 90/130\n",
      "584/584 [==============================] - 0s 174us/step - loss: 0.0033 - val_loss: 0.0214\n",
      "Epoch 91/130\n",
      "584/584 [==============================] - 0s 154us/step - loss: 0.0045 - val_loss: 0.0181\n",
      "Epoch 92/130\n",
      "584/584 [==============================] - 0s 170us/step - loss: 0.0038 - val_loss: 0.0213\n",
      "Epoch 93/130\n",
      "584/584 [==============================] - 0s 170us/step - loss: 0.0032 - val_loss: 0.0215\n",
      "Epoch 94/130\n",
      "584/584 [==============================] - 0s 156us/step - loss: 0.0036 - val_loss: 0.0198\n",
      "Epoch 95/130\n",
      "584/584 [==============================] - 0s 155us/step - loss: 0.0035 - val_loss: 0.0196\n",
      "Epoch 96/130\n",
      "584/584 [==============================] - 0s 152us/step - loss: 0.0031 - val_loss: 0.0209\n",
      "Epoch 97/130\n",
      "584/584 [==============================] - 0s 150us/step - loss: 0.0038 - val_loss: 0.0194\n",
      "Epoch 98/130\n",
      "584/584 [==============================] - 0s 159us/step - loss: 0.0031 - val_loss: 0.0208\n",
      "Epoch 99/130\n",
      "584/584 [==============================] - 0s 160us/step - loss: 0.0030 - val_loss: 0.0204\n",
      "Epoch 100/130\n",
      "584/584 [==============================] - 0s 162us/step - loss: 0.0033 - val_loss: 0.0198\n",
      "Epoch 101/130\n",
      "584/584 [==============================] - 0s 160us/step - loss: 0.0043 - val_loss: 0.0180\n",
      "Epoch 102/130\n",
      "584/584 [==============================] - 0s 169us/step - loss: 0.0038 - val_loss: 0.0212\n",
      "Epoch 103/130\n",
      "584/584 [==============================] - 0s 168us/step - loss: 0.0031 - val_loss: 0.0205\n",
      "Epoch 104/130\n",
      "584/584 [==============================] - 0s 159us/step - loss: 0.0030 - val_loss: 0.0195\n",
      "Epoch 105/130\n",
      "584/584 [==============================] - 0s 161us/step - loss: 0.0030 - val_loss: 0.0199\n",
      "Epoch 106/130\n",
      "584/584 [==============================] - 0s 153us/step - loss: 0.0033 - val_loss: 0.0200\n",
      "Epoch 107/130\n",
      "584/584 [==============================] - 0s 163us/step - loss: 0.0035 - val_loss: 0.0190\n",
      "Epoch 108/130\n",
      "584/584 [==============================] - 0s 169us/step - loss: 0.0031 - val_loss: 0.0200\n",
      "Epoch 109/130\n",
      "584/584 [==============================] - 0s 164us/step - loss: 0.0038 - val_loss: 0.0185\n",
      "Epoch 110/130\n",
      "584/584 [==============================] - 0s 162us/step - loss: 0.0030 - val_loss: 0.0202\n",
      "Epoch 111/130\n",
      "584/584 [==============================] - 0s 159us/step - loss: 0.0031 - val_loss: 0.0212\n",
      "Epoch 112/130\n",
      "584/584 [==============================] - 0s 158us/step - loss: 0.0033 - val_loss: 0.0207\n",
      "Epoch 113/130\n",
      "584/584 [==============================] - 0s 153us/step - loss: 0.0041 - val_loss: 0.0178\n",
      "Epoch 114/130\n",
      "584/584 [==============================] - 0s 157us/step - loss: 0.0034 - val_loss: 0.0193\n",
      "Epoch 115/130\n",
      "584/584 [==============================] - 0s 164us/step - loss: 0.0033 - val_loss: 0.0199\n",
      "Epoch 116/130\n",
      "584/584 [==============================] - 0s 167us/step - loss: 0.0032 - val_loss: 0.0197\n",
      "Epoch 117/130\n",
      "584/584 [==============================] - 0s 172us/step - loss: 0.0032 - val_loss: 0.0194\n",
      "Epoch 118/130\n",
      "584/584 [==============================] - 0s 177us/step - loss: 0.0032 - val_loss: 0.0194\n",
      "Epoch 119/130\n",
      "584/584 [==============================] - 0s 153us/step - loss: 0.0033 - val_loss: 0.0195\n",
      "Epoch 120/130\n",
      "584/584 [==============================] - 0s 168us/step - loss: 0.0031 - val_loss: 0.0196\n",
      "Epoch 121/130\n",
      "584/584 [==============================] - 0s 182us/step - loss: 0.0030 - val_loss: 0.0198\n",
      "Epoch 122/130\n",
      "584/584 [==============================] - 0s 178us/step - loss: 0.0030 - val_loss: 0.0194\n",
      "Epoch 123/130\n",
      "584/584 [==============================] - 0s 183us/step - loss: 0.0033 - val_loss: 0.0193\n",
      "Epoch 124/130\n",
      "584/584 [==============================] - 0s 182us/step - loss: 0.0038 - val_loss: 0.0178\n",
      "Epoch 125/130\n",
      "584/584 [==============================] - 0s 157us/step - loss: 0.0031 - val_loss: 0.0192\n",
      "Epoch 126/130\n",
      "584/584 [==============================] - 0s 153us/step - loss: 0.0030 - val_loss: 0.0204\n",
      "Epoch 127/130\n",
      "584/584 [==============================] - 0s 171us/step - loss: 0.0033 - val_loss: 0.0201\n",
      "Epoch 128/130\n",
      "584/584 [==============================] - 0s 164us/step - loss: 0.0041 - val_loss: 0.0173\n",
      "Epoch 129/130\n",
      "584/584 [==============================] - 0s 154us/step - loss: 0.0035 - val_loss: 0.0190\n",
      "Epoch 130/130\n",
      "584/584 [==============================] - 0s 182us/step - loss: 0.0032 - val_loss: 0.0192\n"
     ]
    },
    {
     "data": {
      "image/png": "[encoded data removed]",
      "text/plain": [
       "<matplotlib.figure.Figure at 0x1a229c8dd8>"
      ]
     },
     "metadata": {},
     "output_type": "display_data"
    }
   ],
   "source": [
    "history = model.fit(train_X, train_y, epochs=130, batch_size=72, validation_data=(test_X, test_y), verbose=1, shuffle=False)\n",
    "pyplot.plot(history.history['loss'], label='train')\n",
    "pyplot.plot(history.history['val_loss'], label='test')\n",
    "pyplot.legend()\n",
    "pyplot.show()"
   ]
  },
  {
   "cell_type": "markdown",
   "metadata": {
    "collapsed": true
   },
   "source": [
    "Prediction of the model.\n",
    "<br>\n",
    "Following steps are taken:\n",
    "<br>\n",
    "- Prediction\n",
    "- Invert scaling for forecast\n",
    "- Invert scaling for actual\n",
    "- Calculate RMSE\n",
    "- Prediction on train\n",
    "- Invert scaling for train forecast\n",
    "- Invert scaling for train actual\n",
    "- Calculate train RMSE\n",
    "- Calculate MAPE"
   ]
  },
  {
   "cell_type": "code",
   "execution_count": 23,
   "metadata": {
    "collapsed": false
   },
   "outputs": [
    {
     "name": "stdout",
     "output_type": "stream",
     "text": [
      "Train RMSE (Root Mean Squared Error): 6.625\n",
      "Test RMSE (Root Mean Squared Error): 26.092\n",
      "\n",
      "Train MAE (Mean Absolute Error): 2.987\n",
      "Test MAE (Mean Absolute Error): 15.892\n",
      "Mean Absolute Percentage Error =  3.73476222157\n"
     ]
    }
   ],
   "source": [
    "# make a prediction with model\n",
    "yhat = model.predict(test_X)\n",
    "test_X = test_X.reshape((test_X.shape[0], n_days*n_features))\n",
    "# invert scaling for forecast\n",
    "inv_yhat = concatenate((yhat, test_X[:, -(n_features-1):]), axis=1)\n",
    "inv_yhat = scaler.inverse_transform(inv_yhat)\n",
    "inv_yhat = inv_yhat[:,0]\n",
    "# invert scaling for actual\n",
    "test_y = test_y.reshape((len(test_y), 1))\n",
    "inv_y = concatenate((test_y, test_X[:, -(n_features-1):]), axis=1)\n",
    "inv_y = scaler.inverse_transform(inv_y)\n",
    "inv_y = inv_y[:,0]\n",
    "# calculate RMSE\n",
    "\n",
    "\n",
    "# make a prediction with model for train\n",
    "trainyhat = model.predict(train_X)\n",
    "train_X = train_X.reshape((train_X.shape[0], n_days*n_features))\n",
    "# invert scaling for forecast\n",
    "traininv_yhat = concatenate((trainyhat, train_X[:, -(n_features-1):]), axis=1)\n",
    "traininv_yhat = scaler.inverse_transform(traininv_yhat)\n",
    "traininv_yhat = traininv_yhat[:,0]\n",
    "# invert scaling for actual\n",
    "train_y = train_y.reshape((len(train_y), 1))\n",
    "traininv_y = concatenate((train_y, train_X[:, -(n_features-1):]), axis=1)\n",
    "traininv_y = scaler.inverse_transform(traininv_y)\n",
    "traininv_y = traininv_y[:,0]\n",
    "\n",
    "\n",
    "\n",
    "trainrmse = sqrt(mean_squared_error(traininv_y, traininv_yhat))\n",
    "testrmse = sqrt(mean_squared_error(inv_y, inv_yhat))\n",
    "\n",
    "print('Train RMSE (Root Mean Squared Error): %.3f' % trainrmse)\n",
    "print('Test RMSE (Root Mean Squared Error): %.3f' % testrmse)\n",
    "print('')\n",
    "\n",
    "testmae = mean_absolute_error(inv_y, inv_yhat)\n",
    "trainmae = mean_absolute_error(traininv_y, traininv_yhat)\n",
    "\n",
    "print('Train MAE (Mean Absolute Error): %.3f' % trainmae)\n",
    "print('Test MAE (Mean Absolute Error): %.3f' % testmae)\n",
    "\n",
    "\n",
    "def mean_absolute_percentage_error(y_true, y_pred): \n",
    "    y_true, y_pred = np.array(y_true), np.array(y_pred)\n",
    "    return np.mean(np.abs((y_true - y_pred) / y_true)) * 100\n",
    "\n",
    "MAPE = mean_absolute_percentage_error(inv_y, inv_yhat )\n",
    "print(\"Mean Absolute Percentage Error = \", MAPE)"
   ]
  },
  {
   "cell_type": "markdown",
   "metadata": {
    "collapsed": true
   },
   "source": [
    "Plot predicted versus real values"
   ]
  },
  {
   "cell_type": "code",
   "execution_count": 26,
   "metadata": {
    "collapsed": false
   },
   "outputs": [
    {
     "data": {
      "image/png": "[encoded data removed]",
      "text/plain": [
       "<matplotlib.figure.Figure at 0x1a23fc06a0>"
      ]
     },
     "metadata": {},
     "output_type": "display_data"
    }
   ],
   "source": [
    "pyplot.plot(inv_yhat, label='predict')\n",
    "pyplot.plot(inv_y, label='actual', alpha=0.5)\n",
    "pyplot.legend()\n",
    "pyplot.show()"
   ]
  },
  {
   "cell_type": "markdown",
   "metadata": {
    "collapsed": true
   },
   "source": [
    "Create dataframe whith predicted, true and percentge difference between predicted and true"
   ]
  },
  {
   "cell_type": "code",
   "execution_count": 27,
   "metadata": {
    "collapsed": false
   },
   "outputs": [
    {
     "name": "stdout",
     "output_type": "stream",
     "text": [
      "           pred        real  percentage change  pred_change  real_change\n",
      "0    268.818542  282.894989          -4.975856     0.000000     0.000000\n",
      "1    288.009766  297.267487          -3.114273    19.191223    14.372498\n",
      "2    303.277405  297.342499           1.995983    15.267639     0.075012\n",
      "3    303.357178  301.767487           0.526793     0.079773     4.424988\n",
      "4    308.066711  311.192505          -1.004457     4.709534     9.425018\n",
      "5    318.111359  302.140015           5.286074    10.044647    -9.052490\n",
      "6    308.463409  300.337494           2.705595    -9.647949    -1.802521\n",
      "7    306.544312  292.377502           4.845383    -1.919098    -7.959991\n",
      "8    298.077881  295.220001           0.968051    -8.466431     2.842499\n",
      "9    301.099701  303.887512          -0.917383     3.021820     8.667511\n",
      "10   310.324554  299.437500           3.635835     9.224854    -4.450012\n",
      "11   305.586426  295.375000           3.457106    -4.738129    -4.062500\n",
      "12   301.264526  297.769989           1.173569    -4.321899     2.394989\n",
      "13   303.811981  316.587494          -4.035381     2.547455    18.817505\n",
      "14   323.869049  315.279999           2.724261    20.057068    -1.307495\n",
      "15   322.473145  317.885010           1.443332    -1.395905     2.605011\n",
      "16   325.254700  322.024994           1.002936     2.781555     4.139984\n",
      "17   329.678009  330.057495          -0.114976     4.423309     8.032501\n",
      "18   338.269684  332.195007           1.828648     8.591675     2.137512\n",
      "19   340.558105  341.125000          -0.166184     2.288422     8.929993\n",
      "20   350.127533  347.062500           0.883136     9.569427     5.937500\n",
      "21   356.498199  360.045013          -0.985103     6.370667    12.982513\n",
      "22   370.449463  374.670013          -1.126471    13.951263    14.625000\n",
      "23   386.199615  380.992493           1.366726    15.750153     6.322479\n",
      "24   393.019104  386.179993           1.770965     6.819489     5.187500\n",
      "25   398.618958  363.562500           9.642485     5.599854   -22.617493\n",
      "26   374.234375  349.107513           7.197457   -24.384583   -14.454987\n",
      "27   358.693878  317.342499          13.030520   -15.540497   -31.765015\n",
      "28   324.675323  299.355011           8.458289   -34.018555   -17.987488\n",
      "29   305.498657  324.072510          -5.731388   -19.176666    24.717499\n",
      "..          ...         ...                ...          ...          ...\n",
      "116  471.261200  465.797485           1.172981    18.381775    12.630005\n",
      "117  485.016327  466.052490           4.069035    13.755127     0.255005\n",
      "118  485.294220  466.085022           4.121394     0.277893     0.032532\n",
      "119  485.329681  466.197479           4.103884     0.035461     0.112457\n",
      "120  485.452240  443.527496           9.452570     0.122559   -22.669983\n",
      "121  460.773651  429.147522           7.369524   -24.678589   -14.379974\n",
      "122  445.148804  444.862488           0.064361   -15.624847    15.714966\n",
      "123  462.225403  472.809998          -2.238657    17.076599    27.947510\n",
      "124  492.660248  454.202515           8.467090    30.434845   -18.607483\n",
      "125  472.387848  477.892517          -1.151863   -20.272400    23.690002\n",
      "126  498.203308  583.882507         -14.674048    25.815460   105.989990\n",
      "127  614.191711  673.367493          -8.788036   115.988403    89.484985\n",
      "128  712.340271  703.630005           1.237904    98.148560    30.262512\n",
      "129  745.497742  674.755005          10.484210    33.157471   -28.875000\n",
      "130  713.861206  695.392517           2.655865   -31.636536    20.637512\n",
      "131  736.475952  712.072510           3.427101    22.614746    16.679993\n",
      "132  754.740845  752.382507           0.313449    18.264893    40.309998\n",
      "133  798.817200  822.000000          -2.820292    44.076355    69.617493\n",
      "134  874.644287  811.917480           7.725761    75.827087   -10.082520\n",
      "135  863.690430  828.632568           4.230809   -10.953857    16.715088\n",
      "136  881.843994  717.234985          22.950499    18.153564  -111.397583\n",
      "137  760.391113  711.082520           6.934300  -121.452881    -6.152466\n",
      "138  753.657166  688.152527           9.518912    -6.733948   -22.929993\n",
      "139  728.544128  736.522522          -1.083252   -25.113037    48.369995\n",
      "140  781.487488  771.232483           1.329690    52.943359    34.709961\n",
      "141  819.390076  766.367493           6.918689    37.902588    -4.864990\n",
      "142  814.083069  740.934998           9.872400    -5.307007   -25.432495\n",
      "143  786.310608  748.427490           5.061695   -27.772461     7.492493\n",
      "144  794.497375  727.532471           9.204387     8.186768   -20.895020\n",
      "145  771.657043  734.852478           5.008430   -22.840332     7.320007\n",
      "\n",
      "[146 rows x 5 columns]\n"
     ]
    }
   ],
   "source": [
    "d = {'real':inv_y, 'pred':inv_yhat}\n",
    "pred = DataFrame(data=d)\n",
    "pred['percentage change'] = (((pred['pred'] - pred['real'])/(pred['real']))*100)\n",
    "pred['pred_change'] = pred.pred.diff().fillna(0)\n",
    "pred['real_change'] = pred.real.diff().fillna(0)\n",
    "print(pred)"
   ]
  },
  {
   "cell_type": "markdown",
   "metadata": {
    "collapsed": true
   },
   "source": [
    "Calculate acurracy:\n",
    "\n",
    "\\begin{equation*}\n",
    "Accuracy = \\frac{TP+TN}{(TP + TN + TP + TN)}\n",
    "\\end{equation*}"
   ]
  },
  {
   "cell_type": "code",
   "execution_count": 28,
   "metadata": {
    "collapsed": false
   },
   "outputs": [
    {
     "name": "stdout",
     "output_type": "stream",
     "text": [
      "Accuracy of correct direction prediction (up/down):  59.589041095890416\n"
     ]
    }
   ],
   "source": [
    "def accuracy(df):\n",
    "    count = 0\n",
    "    for index, row in pred.iterrows():\n",
    "        if row['pred_change'] < 0 and row['real_change'] < 0 or row['pred_change'] > 0 and row['real_change'] > 0:\n",
    "            count += 1\n",
    "    return count/len(df)*100\n",
    "\n",
    "print('Accuracy of correct direction prediction (up/down): ', accuracy(pred))"
   ]
  },
  {
   "cell_type": "markdown",
   "metadata": {
    "collapsed": true
   },
   "source": [
    "Calculate F1-score by creating classes"
   ]
  },
  {
   "cell_type": "code",
   "execution_count": 29,
   "metadata": {
    "collapsed": false
   },
   "outputs": [
    {
     "name": "stdout",
     "output_type": "stream",
     "text": [
      "The F1 score: 67.04545454545455\n"
     ]
    }
   ],
   "source": [
    "def f1_score(df):\n",
    "    TN = 0\n",
    "    TP = 0\n",
    "    FN = 0\n",
    "    FP = 0\n",
    "    for index, row in pred.iterrows():\n",
    "            if row['pred_change'] < 0 and row['real_change'] < 0: \n",
    "                TN += 1\n",
    "            elif row['pred_change'] > 0 and row['real_change'] > 0:\n",
    "                TP += 1\n",
    "            elif row['pred_change'] < 0 and row['real_change'] > 0:\n",
    "                FN += 1\n",
    "            elif row['pred_change'] > 0 and row['real_change'] < 0:\n",
    "                FP += 1\n",
    "\n",
    "    precision = TP/(TP+FP)\n",
    "    recall = TP/(TP+FN)\n",
    "    f1 = 2*((recall*precision)/(recall + precision))\n",
    "    return f1*100\n",
    "\n",
    "print('The F1 score:',f1_score(df))"
   ]
  },
  {
   "cell_type": "code",
   "execution_count": null,
   "metadata": {
    "collapsed": true
   },
   "outputs": [],
   "source": []
  },
  {
   "cell_type": "code",
   "execution_count": null,
   "metadata": {
    "collapsed": true
   },
   "outputs": [],
   "source": []
  }
 ],
 "metadata": {
  "anaconda-cloud": {},
  "kernelspec": {
   "display_name": "Python [default]",
   "language": "python",
   "name": "python3"
  },
  "language_info": {
   "codemirror_mode": {
    "name": "ipython",
    "version": 3
   },
   "file_extension": ".py",
   "mimetype": "text/x-python",
   "name": "python",
   "nbconvert_exporter": "python",
   "pygments_lexer": "ipython3",
   "version": "3.5.2"
  }
 },
 "nbformat": 4,
 "nbformat_minor": 2
}
