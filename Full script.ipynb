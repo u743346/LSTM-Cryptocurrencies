{
 "cells": [
  {
   "cell_type": "markdown",
   "metadata": {},
   "source": [
    "# Full script for LSTM cryptocurrency prediction\n",
    "\n",
    "u743346\n",
    "<br>\n",
    "Gerlof Bremmer\n",
    "<br>\n",
    "g.d.bremmer@tilburguniversity.edu"
   ]
  },
  {
   "cell_type": "markdown",
   "metadata": {},
   "source": [
    "Import neccasary packages and set random seed for reproducability"
   ]
  },
  {
   "cell_type": "code",
   "execution_count": 1,
   "metadata": {
    "collapsed": false
   },
   "outputs": [
    {
     "name": "stderr",
     "output_type": "stream",
     "text": [
      "Using TensorFlow backend.\n"
     ]
    }
   ],
   "source": [
    "from math import sqrt\n",
    "import math\n",
    "\n",
    "import numpy as np\n",
    "from numpy import concatenate\n",
    "\n",
    "from vaderSentiment.vaderSentiment import SentimentIntensityAnalyzer\n",
    "\n",
    "import time\n",
    "\n",
    "from matplotlib import pyplot\n",
    "import matplotlib.pyplot as plt\n",
    "\n",
    "\n",
    "import pandas as pd\n",
    "from pandas import DataFrame\n",
    "from pandas import concat\n",
    "from pandas import Series\n",
    "from pandas import Panel\n",
    "\n",
    "from sklearn import preprocessing\n",
    "from sklearn.metrics import mean_squared_error\n",
    "from sklearn.metrics import mean_absolute_error\n",
    "from sklearn.preprocessing import MinMaxScaler\n",
    "\n",
    "\n",
    "import keras\n",
    "from keras.models import Sequential\n",
    "from keras.layers import Dense\n",
    "from keras.layers import Activation\n",
    "from keras.layers import Dropout\n",
    "from keras.layers import LSTM\n",
    "from keras.layers import Embedding\n",
    "from keras.wrappers.scikit_learn import KerasRegressor\n",
    "from keras import regularizers\n",
    "\n",
    "import tensorflow as tf"
   ]
  },
  {
   "cell_type": "code",
   "execution_count": 2,
   "metadata": {
    "collapsed": true
   },
   "outputs": [],
   "source": [
    "seed = 1337\n",
    "np.random.seed(seed)"
   ]
  },
  {
   "cell_type": "markdown",
   "metadata": {},
   "source": [
    "pylab inline to show graphs inline"
   ]
  },
  {
   "cell_type": "code",
   "execution_count": 3,
   "metadata": {
    "collapsed": false
   },
   "outputs": [
    {
     "name": "stdout",
     "output_type": "stream",
     "text": [
      "Populating the interactive namespace from numpy and matplotlib\n"
     ]
    },
    {
     "name": "stderr",
     "output_type": "stream",
     "text": [
      "/Users/gerlofbremmer/anaconda/lib/python3.5/site-packages/IPython/core/magics/pylab.py:161: UserWarning: pylab import has clobbered these variables: ['seed', 'sqrt']\n",
      "`%matplotlib` prevents importing * from pylab and numpy\n",
      "  \"\\n`%matplotlib` prevents importing * from pylab and numpy\"\n"
     ]
    }
   ],
   "source": [
    "%pylab inline"
   ]
  },
  {
   "cell_type": "markdown",
   "metadata": {},
   "source": [
    "# 1. Comment data pre-processing and sentiment calculation"
   ]
  },
  {
   "cell_type": "markdown",
   "metadata": {},
   "source": [
    "Load scraped data json"
   ]
  },
  {
   "cell_type": "code",
   "execution_count": null,
   "metadata": {
    "collapsed": true
   },
   "outputs": [],
   "source": [
    "ltc = pd.read_json('ltc.json', lines=True)\n",
    "xrp = pd.read_json('xrp.json', lines=True)\n",
    "eth = pd.read_json('eth.json', lines=True)"
   ]
  },
  {
   "cell_type": "markdown",
   "metadata": {},
   "source": [
    "Exploration"
   ]
  },
  {
   "cell_type": "code",
   "execution_count": null,
   "metadata": {
    "collapsed": true
   },
   "outputs": [],
   "source": [
    "ltc.info()\n",
    "eth.info()\n",
    "xrp.info()"
   ]
  },
  {
   "cell_type": "markdown",
   "metadata": {},
   "source": [
    "Test if all comment ID's are unique"
   ]
  },
  {
   "cell_type": "code",
   "execution_count": null,
   "metadata": {
    "collapsed": true
   },
   "outputs": [],
   "source": [
    "def unique(df):\n",
    "    return df.id.nunique()\n",
    "\n",
    "print(unique(ltc))\n",
    "print(unique(eth))\n",
    "print(unique(xrp))"
   ]
  },
  {
   "cell_type": "markdown",
   "metadata": {},
   "source": [
    "Filtering the dataset to only usefull columns"
   ]
  },
  {
   "cell_type": "code",
   "execution_count": null,
   "metadata": {
    "collapsed": true
   },
   "outputs": [],
   "source": [
    "def filter_col(df, cols):\n",
    "    return df.drop(df.columns[[cols]], axis=1)\n",
    "\n",
    "ltc = filter_col(ltc, [0,2,3,4,5,6,7,8,9,11,12,13,14,15,16,18,19,20,22,23,24,25,26,27,28,29,30,31,32,33,35,36,37,38,39])\n",
    "eth = filter_col(eth, [0,2,3,4,5,6,7,8,9,11,12,13,14,15,16,18,19,20,22,23,24,25,26,27,28,29,30,31,32,33,35,36,37,38,39])\n",
    "xrp = filter_col(xrp, [0,2,3,4,5,6,7,8,9,11,12,13,14,15,16,18,19,20,22,23,24,25,26,27,28,29,30,31,32,33,35,36,37,38,39])\n"
   ]
  },
  {
   "cell_type": "markdown",
   "metadata": {},
   "source": [
    "Drop comments from before 01-01-2016 = after epoch 1451606401 & before 1514764799"
   ]
  },
  {
   "cell_type": "code",
   "execution_count": null,
   "metadata": {
    "collapsed": true
   },
   "outputs": [],
   "source": [
    "ltc = ltc[ltc['created_utc'] >= 1451606401]\n",
    "ltc = ltc[ltc['created_utc'] <= 1514764799]\n",
    "eth = eth[eth['created_utc'] >= 1451606401]\n",
    "eth = eth[eth['created_utc'] <= 1514764799]\n",
    "xrp = xrp[xrp['created_utc'] >= 1451606401]\n",
    "xrp = xrp[xrp['created_utc'] <= 1514764799]"
   ]
  },
  {
   "cell_type": "markdown",
   "metadata": {},
   "source": [
    "Change created_utc to readble datetime"
   ]
  },
  {
   "cell_type": "code",
   "execution_count": null,
   "metadata": {
    "collapsed": true
   },
   "outputs": [],
   "source": [
    "def to_datetime(df):\n",
    "    return pd.to_datetime(df['created_utc'],unit='s')\n",
    "\n",
    "ltc['datetime'] = to_datetime(ltc)\n",
    "eth['datetime'] = to_datetime(eth)\n",
    "xrp['datetime'] = to_datetime(xrp)"
   ]
  },
  {
   "cell_type": "markdown",
   "metadata": {},
   "source": [
    "Remove 'removed' and 'deleted' comments"
   ]
  },
  {
   "cell_type": "code",
   "execution_count": null,
   "metadata": {
    "collapsed": true
   },
   "outputs": [],
   "source": [
    "ltc = ltc[ltc.body != '[removed]']\n",
    "ltc = ltc[ltc.body != '[deleted]']\n",
    "xrp = xrp[xrp.body != '[removed]']\n",
    "xrp = xrp[xrp.body != '[deleted]']\n",
    "eth = eth[eth.body != '[removed]']\n",
    "eth = eth[eth.body != '[deleted]']"
   ]
  },
  {
   "cell_type": "markdown",
   "metadata": {},
   "source": [
    "Perform VADER sentiment analysis on every sentence; new columns: compound, negative, neutral, positive\n",
    "<br>\n",
    "NOTE: computational extensive process"
   ]
  },
  {
   "cell_type": "code",
   "execution_count": null,
   "metadata": {
    "collapsed": true
   },
   "outputs": [],
   "source": [
    "\n",
    "analyzer = SentimentIntensityAnalyzer()\n",
    "ltc[['compound','neg','neu','pos']] = ltc['body'].apply(lambda body: pd.Series(analyzer.polarity_scores(body)))\n",
    "xrp[['compound','neg','neu','pos']] = xrp['body'].apply(lambda body: pd.Series(analyzer.polarity_scores(body)))\n",
    "eth[['compound','neg','neu','pos']] = eth['body'].apply(lambda body: pd.Series(analyzer.polarity_scores(body)))\n",
    "                                                               "
   ]
  },
  {
   "cell_type": "markdown",
   "metadata": {},
   "source": [
    "grouping the data on datetime (day) simoultaniously calculating mean of sentiment scores + drop nan values\n",
    "\n",
    "resulting in 730 entries for LTC and ETH and 538 days for XRP"
   ]
  },
  {
   "cell_type": "code",
   "execution_count": null,
   "metadata": {
    "collapsed": true
   },
   "outputs": [],
   "source": [
    "\n",
    "def mean_grouping(df):\n",
    "    return df.set_index('datetime').groupby(pd.TimeGrouper('D')).mean().dropna()\n",
    "\n",
    "ltccomment = mean_grouping(ltc)\n",
    "xrpcomment = mean_grouping(xrp)\n",
    "ethcomment = mean_grouping(eth)\n"
   ]
  },
  {
   "cell_type": "markdown",
   "metadata": {},
   "source": [
    "Counting number of comments per day and adding column numcomments"
   ]
  },
  {
   "cell_type": "code",
   "execution_count": null,
   "metadata": {
    "collapsed": true
   },
   "outputs": [],
   "source": [
    "\n",
    "def comment_count(df):\n",
    "    return df.set_index('datetime').resample('D').size()\n",
    "    \n",
    "ltccomment['numcomments'] = comment_count(ltc)\n",
    "xrpcomment['numcomments'] = comment_count(xrp)\n",
    "ethcomment['numcomments'] = comment_count(eth)\n"
   ]
  },
  {
   "cell_type": "markdown",
   "metadata": {},
   "source": [
    "Mean, max, min for sentiment compound and karma score of comments"
   ]
  },
  {
   "cell_type": "code",
   "execution_count": null,
   "metadata": {
    "collapsed": true
   },
   "outputs": [],
   "source": [
    "\n",
    "def min_max_mean(coin, df):\n",
    "    print(\"Minumum compound \", coin,\" :\" ,df['compound'].min())\n",
    "    print(\"Maximum compound \", coin,\" :\" ,df['compound'].max())\n",
    "    print(\"Mean of compound \", coin,\" :\" ,df['compound'].mean())\n",
    "    print(\"\\n\")\n",
    "    \n",
    "min_max_mean('LTC', ltc)\n",
    "min_max_mean('ETH', eth)\n",
    "min_max_mean('XRP', xrp)"
   ]
  },
  {
   "cell_type": "code",
   "execution_count": null,
   "metadata": {
    "collapsed": true
   },
   "outputs": [],
   "source": [
    "def min_max_score(coin, df):\n",
    "    print(\"Minumum score\",coin,\" : \" ,df['score'].min())\n",
    "    print(\"Maximum score\",coin,\" : \" ,df['score'].max())\n",
    "    print(\"\\n\")\n",
    "    \n",
    "min_max_score('LTC', ltc)\n",
    "min_max_score('ETH', eth)\n",
    "min_max_score('XRP', xrp)"
   ]
  },
  {
   "cell_type": "markdown",
   "metadata": {},
   "source": [
    "Saving DF with sentiment as pickle for later analysis"
   ]
  },
  {
   "cell_type": "code",
   "execution_count": null,
   "metadata": {
    "collapsed": true
   },
   "outputs": [],
   "source": [
    "ltccomment.to_pickle('Litecoin2016-17.pkl')\n",
    "ethcomment.to_pickle('Ethereum2016-17.pkl')\n",
    "xrpcomment.to_pickle('Ripple2016-17.pkl')"
   ]
  },
  {
   "cell_type": "markdown",
   "metadata": {},
   "source": [
    "# 2. Price data pre-processing"
   ]
  },
  {
   "cell_type": "markdown",
   "metadata": {},
   "source": [
    "Read in prices.csv"
   ]
  },
  {
   "cell_type": "code",
   "execution_count": null,
   "metadata": {
    "collapsed": true
   },
   "outputs": [],
   "source": [
    "prices = pd.read_csv(\"prices.csv\" , parse_dates= ['date'])"
   ]
  },
  {
   "cell_type": "markdown",
   "metadata": {},
   "source": [
    "Exploration"
   ]
  },
  {
   "cell_type": "code",
   "execution_count": null,
   "metadata": {
    "collapsed": true
   },
   "outputs": [],
   "source": [
    "prices.info()\n",
    "prices[0:100]\n",
    "prices.loc[prices['symbol'] == 'XRP']"
   ]
  },
  {
   "cell_type": "markdown",
   "metadata": {},
   "source": [
    "Creating 3 datasets with date as index (corrosponding to sentiment data)"
   ]
  },
  {
   "cell_type": "code",
   "execution_count": null,
   "metadata": {
    "collapsed": true
   },
   "outputs": [],
   "source": [
    "def date_index(df, coin):\n",
    "    return df[df['symbol'] == coin].set_index('date')\n",
    "\n",
    "pricesLTC = date_index(prices, 'LTC')\n",
    "pricesETH = date_index(prices, 'ETH')\n",
    "pricesXRP = date_index(prices, 'XRP')"
   ]
  },
  {
   "cell_type": "markdown",
   "metadata": {},
   "source": [
    "Filter date only 01-01-2016 to 31-12-2017"
   ]
  },
  {
   "cell_type": "code",
   "execution_count": null,
   "metadata": {
    "collapsed": true
   },
   "outputs": [],
   "source": [
    "def filter_date(df, after, before):\n",
    "    return df.ix[after:before]\n",
    "\n",
    "pricesLTC = filter_date(pricesLTC, '2016-01-01','2017-12-31')\n",
    "pricesETH = filter_date(pricesETH, '2016-01-01','2017-12-31')\n",
    "pricesXRP = filter_date(pricesXRP, '2016-01-01','2017-12-31')"
   ]
  },
  {
   "cell_type": "markdown",
   "metadata": {},
   "source": [
    "Calculate extra variables and add as new columns"
   ]
  },
  {
   "cell_type": "code",
   "execution_count": null,
   "metadata": {
    "collapsed": true
   },
   "outputs": [],
   "source": [
    "def operations(df):\n",
    "    scaler = MinMaxScaler(feature_range=(-1, 1))\n",
    "    df['prices'] = df[['open', 'close','high','low']].mean(axis=1)\n",
    "    df['delta_day'] = df['high'] - df['low']\n",
    "    df['fluctuation'] = 0\n",
    "    df['fluctuation'] = df.delta_day.diff().fillna(0)\n",
    "    df['norm_fluctuation'] = 0\n",
    "    df['norm_fluctuation'] = scaler.fit_transform(df[['fluctuation']])\n",
    "    df['pct_change']= df['prices'].pct_change()\n",
    "    df['log_pct_change'] = np.log(df['prices'].astype('float64')/df['prices'].astype('float64').shift(1))\n",
    "    #df['norm_compound'] = 0\n",
    "    #df['norm_compound'] = scaler.fit_transform(df[['compound']])\n",
    "    \n",
    "operations(pricesLTC)\n",
    "operations(pricesETH)\n",
    "operations(pricesXRP)"
   ]
  },
  {
   "cell_type": "markdown",
   "metadata": {},
   "source": [
    "Save price data to pickle for merging with sentiment data"
   ]
  },
  {
   "cell_type": "code",
   "execution_count": null,
   "metadata": {
    "collapsed": true
   },
   "outputs": [],
   "source": [
    "pricesLTC.to_pickle('pricesLTC2016-17.pkl')\n",
    "pricesXRP.to_pickle('pricesXRP2016-17.pkl')\n",
    "pricesETH.to_pickle('pricesETH2016-17.pkl')"
   ]
  },
  {
   "cell_type": "markdown",
   "metadata": {
    "collapsed": true
   },
   "source": [
    "# 3. Merging, corrolation and visualization"
   ]
  },
  {
   "cell_type": "markdown",
   "metadata": {
    "collapsed": true
   },
   "source": [
    "Import comment data and price data"
   ]
  },
  {
   "cell_type": "code",
   "execution_count": null,
   "metadata": {
    "collapsed": true
   },
   "outputs": [],
   "source": [
    "ltc = pd.read_pickle('Litecoin2016-17.pkl')\n",
    "eth = pd.read_pickle('Ethereum2016-17.pkl')\n",
    "xrp = pd.read_pickle('Ripple2016-17.pkl')\n",
    "\n",
    "\n",
    "priceltc = pd.read_pickle('pricesLTC2016-17.pkl')\n",
    "pricexrp = pd.read_pickle('pricesXRP2016-17.pkl')\n",
    "priceeth = pd.read_pickle('pricesETH2016-17.pkl')"
   ]
  },
  {
   "cell_type": "markdown",
   "metadata": {
    "collapsed": true
   },
   "source": [
    "Merge datasets on index"
   ]
  },
  {
   "cell_type": "code",
   "execution_count": null,
   "metadata": {
    "collapsed": true
   },
   "outputs": [],
   "source": [
    "def merge(leftdf, rightdf):\n",
    "    return pd.merge(leftdf,rightdf, how='inner', left_index=True, right_index=True)\n",
    "    \n",
    "\n",
    "mergeltc = merge(priceltc, ltc)\n",
    "mergeeth = merge(priceeth, eth)\n",
    "mergexrp = merge(pricexrp, xrp)"
   ]
  },
  {
   "cell_type": "markdown",
   "metadata": {},
   "source": [
    "Output the corrolation matrix between variables"
   ]
  },
  {
   "cell_type": "code",
   "execution_count": null,
   "metadata": {
    "collapsed": true
   },
   "outputs": [],
   "source": [
    "def corr_matrix(df):\n",
    "    df = df[['prices','volume','delta_day', 'compound', 'numcomments']]\n",
    "    return df.corr(method='pearson')\n",
    "    \n",
    "corr_matrix(eth)"
   ]
  },
  {
   "cell_type": "markdown",
   "metadata": {},
   "source": [
    "Display top corrolations"
   ]
  },
  {
   "cell_type": "code",
   "execution_count": null,
   "metadata": {
    "collapsed": true
   },
   "outputs": [],
   "source": [
    "def correlation_top(df):\n",
    "    corre = df.corr(method='pearson')\n",
    "    c1 = corre.abs().unstack()\n",
    "    results = c1.sort_values(ascending = False)\n",
    "    print(results[0:150])\n",
    "    \n",
    "correlation_top(xrp)"
   ]
  },
  {
   "cell_type": "code",
   "execution_count": null,
   "metadata": {
    "collapsed": true
   },
   "outputs": [],
   "source": []
  },
  {
   "cell_type": "code",
   "execution_count": null,
   "metadata": {
    "collapsed": true
   },
   "outputs": [],
   "source": []
  },
  {
   "cell_type": "markdown",
   "metadata": {
    "collapsed": true
   },
   "source": [
    "Set size of plot to fixed size 15x9"
   ]
  },
  {
   "cell_type": "code",
   "execution_count": null,
   "metadata": {
    "collapsed": true
   },
   "outputs": [],
   "source": [
    "fig_size = plt.rcParams[\"figure.figsize\"]\n",
    "fig_size[0] = 15\n",
    "fig_size[1] = 9\n",
    "plt.rcParams[\"figure.figsize\"] = fig_size"
   ]
  },
  {
   "cell_type": "code",
   "execution_count": null,
   "metadata": {
    "collapsed": true
   },
   "outputs": [],
   "source": []
  },
  {
   "cell_type": "markdown",
   "metadata": {
    "collapsed": true
   },
   "source": [
    "# 4. LSTM prediction"
   ]
  },
  {
   "cell_type": "markdown",
   "metadata": {
    "collapsed": true
   },
   "source": [
    "Load the datasets for analysis"
   ]
  },
  {
   "cell_type": "code",
   "execution_count": 4,
   "metadata": {
    "collapsed": false
   },
   "outputs": [],
   "source": [
    "ltc = pd.read_pickle('mergeLTC2016-17.pkl')\n",
    "eth = pd.read_pickle('mergeETH2016-17.pkl')\n",
    "xrp = pd.read_pickle('mergeXRP2016-17.pkl')"
   ]
  },
  {
   "cell_type": "markdown",
   "metadata": {
    "collapsed": true
   },
   "source": [
    "Steps for choosing the analysis:\n",
    "<br>\n",
    "- Copy data of cryptocurrency to temporary df\n",
    "- Specify the input variables as string in function call\n",
    "<br>\n",
    "eg: prices = 1 lag day prices, compound = 1 lag day compound\n",
    "<br>\n",
    "All variables:\n",
    "df = choose_crypto(ltc ,'prices','compound', 'numcomments')"
   ]
  },
  {
   "cell_type": "code",
   "execution_count": 5,
   "metadata": {
    "collapsed": false
   },
   "outputs": [],
   "source": [
    "\n",
    "def choose_crypto(crypto, *vars):\n",
    "    df = crypto\n",
    "    if len(vars) == 4:\n",
    "        df = df[[vars[0],vars[1],vars[2],vars[3]]]\n",
    "    elif len(vars) == 3:\n",
    "        df = df[[vars[0],vars[1],vars[2]]]\n",
    "    elif len(vars) == 2:\n",
    "        df = df[[vars[0],vars[1]]]\n",
    "    else:\n",
    "        df = df[[vars[0]]]\n",
    "    return df\n",
    "\n",
    "df = choose_crypto(ltc, 'prices')"
   ]
  },
  {
   "cell_type": "markdown",
   "metadata": {
    "collapsed": true
   },
   "source": [
    "- Load dataset as values\n",
    "- Ensure all data is float\n",
    "- Normalize features using MinMaxScaler"
   ]
  },
  {
   "cell_type": "code",
   "execution_count": 6,
   "metadata": {
    "collapsed": false
   },
   "outputs": [],
   "source": [
    "values = df.values\n",
    "values = values.astype('float32')\n",
    "scaler = MinMaxScaler(feature_range=(0, 1))\n",
    "scaled = scaler.fit_transform(values)"
   ]
  },
  {
   "cell_type": "markdown",
   "metadata": {
    "collapsed": true
   },
   "source": [
    "- Specify the number of lag days and features above function\n",
    "<br>\n",
    "INCORRECT n_features AND n_days WILL RESULT IN ERROR"
   ]
  },
  {
   "cell_type": "code",
   "execution_count": 7,
   "metadata": {
    "collapsed": false
   },
   "outputs": [
    {
     "name": "stdout",
     "output_type": "stream",
     "text": [
      "(729, 2)\n",
      "   var1(t-1)   var1(t)\n",
      "1   0.001349  0.001385\n",
      "2   0.001385  0.001314\n",
      "3   0.001314  0.001335\n",
      "4   0.001335  0.001299\n",
      "5   0.001299  0.001236 \n",
      "\n"
     ]
    }
   ],
   "source": [
    "\n",
    "n_days = 1\n",
    "n_features = 1\n",
    "\n",
    "# convert series to supervised learning by shifting t-1, t-2, t-3 depending on lag of days\n",
    "def series_to_supervised(data, n_in=1, n_out=1, dropnan=True):\n",
    "    n_vars = 1 if type(data) is list else data.shape[1]\n",
    "    df = DataFrame(data)\n",
    "    cols, names = list(), list()\n",
    "    #input sequence (t-n, ... t-1)\n",
    "    for i in range(n_in, 0, -1):\n",
    "        cols.append(df.shift(i))\n",
    "        names += [('var%d(t-%d)' % (j+1, i)) for j in range(n_vars)]\n",
    "    #forecast sequence (t, t+1, ... t+n)\n",
    "    for i in range(0, n_out):\n",
    "        cols.append(df.shift(-i))\n",
    "        if i == 0:\n",
    "            names += [('var%d(t)' % (j+1)) for j in range(n_vars)]\n",
    "        else:\n",
    "            names += [('var%d(t+%d)' % (j+1, i)) for j in range(n_vars)]\n",
    "    \n",
    "    agg = concat(cols, axis=1)\n",
    "    agg.columns = names\n",
    "    # drop rows with NaN values\n",
    "    if dropnan:\n",
    "        agg.dropna(inplace=True)\n",
    "    return agg\n",
    "\n",
    "\n",
    "# frame as supervised learning\n",
    "reframed = series_to_supervised(scaled, n_days,1)\n",
    "\n",
    "print(reframed.shape)\n",
    "print(reframed.head(), '\\n')\n",
    "\n",
    "if df.shape[1] != n_features:\n",
    "    print('ERROR: n_features must match input variables')"
   ]
  },
  {
   "cell_type": "markdown",
   "metadata": {
    "collapsed": true
   },
   "source": [
    "- Split into train and test sets\n",
    "<br>\n",
    "- Reshape input to be 3D [samples, timesteps, features]"
   ]
  },
  {
   "cell_type": "code",
   "execution_count": 8,
   "metadata": {
    "collapsed": false
   },
   "outputs": [
    {
     "name": "stdout",
     "output_type": "stream",
     "text": [
      "(583, 1) 583 (583,)\n",
      "(583, 1, 1) (583,) (146, 1, 1) (146,)\n"
     ]
    },
    {
     "name": "stderr",
     "output_type": "stream",
     "text": [
      "/Users/gerlofbremmer/anaconda/lib/python3.5/site-packages/ipykernel/__main__.py:3: VisibleDeprecationWarning: using a non-integer number instead of an integer will result in an error in the future\n",
      "  app.launch_new_instance()\n",
      "/Users/gerlofbremmer/anaconda/lib/python3.5/site-packages/ipykernel/__main__.py:4: VisibleDeprecationWarning: using a non-integer number instead of an integer will result in an error in the future\n"
     ]
    }
   ],
   "source": [
    "values = reframed.values\n",
    "n_train_days = 0.8*len(reframed)\n",
    "train = values[:n_train_days, :]\n",
    "test = values[n_train_days:, :]\n",
    "\n",
    "#split into input and outputs\n",
    "n_obs = n_days * n_features\n",
    "train_X, train_y = train[:, :n_obs], train[:, -n_features]\n",
    "test_X, test_y = test[:, :n_obs], test[:, -n_features]\n",
    "print(train_X.shape, len(train_X), train_y.shape)\n",
    "\n",
    "train_X = train_X.reshape((train_X.shape[0], n_days, n_features))\n",
    "test_X = test_X.reshape((test_X.shape[0], n_days, n_features))\n",
    "print(train_X.shape, train_y.shape, test_X.shape, test_y.shape)\n",
    "\n",
    "if df.shape[1] != n_features:\n",
    "    print('ERROR: n_features must match input variables')"
   ]
  },
  {
   "cell_type": "markdown",
   "metadata": {
    "collapsed": true
   },
   "source": [
    "Compile the LSTM model"
   ]
  },
  {
   "cell_type": "code",
   "execution_count": 9,
   "metadata": {
    "collapsed": false
   },
   "outputs": [
    {
     "name": "stdout",
     "output_type": "stream",
     "text": [
      "_________________________________________________________________\n",
      "Layer (type)                 Output Shape              Param #   \n",
      "=================================================================\n",
      "lstm_1 (LSTM)                (None, 20)                1760      \n",
      "_________________________________________________________________\n",
      "dense_1 (Dense)              (None, 1)                 21        \n",
      "=================================================================\n",
      "Total params: 1,781\n",
      "Trainable params: 1,781\n",
      "Non-trainable params: 0\n",
      "_________________________________________________________________\n"
     ]
    }
   ],
   "source": [
    "model = Sequential()\n",
    "model.add(LSTM(20, input_shape=(train_X.shape[1], train_X.shape[2])))\n",
    "model.add(Dense(1))\n",
    "model.compile(loss='mae', optimizer='adam')\n",
    "model.summary()\n"
   ]
  },
  {
   "cell_type": "markdown",
   "metadata": {
    "collapsed": true
   },
   "source": [
    "Fit the model and plot the losses"
   ]
  },
  {
   "cell_type": "code",
   "execution_count": 10,
   "metadata": {
    "collapsed": false
   },
   "outputs": [
    {
     "name": "stdout",
     "output_type": "stream",
     "text": [
      "Train on 583 samples, validate on 146 samples\n",
      "Epoch 1/130\n",
      "583/583 [==============================] - 0s 613us/step - loss: 0.0181 - val_loss: 0.2596\n",
      "Epoch 2/130\n",
      "583/583 [==============================] - 0s 159us/step - loss: 0.0178 - val_loss: 0.2565\n",
      "Epoch 3/130\n",
      "583/583 [==============================] - 0s 159us/step - loss: 0.0180 - val_loss: 0.2551\n",
      "Epoch 4/130\n",
      "583/583 [==============================] - 0s 155us/step - loss: 0.0172 - val_loss: 0.2504\n",
      "Epoch 5/130\n",
      "583/583 [==============================] - 0s 158us/step - loss: 0.0181 - val_loss: 0.2495\n",
      "Epoch 6/130\n",
      "583/583 [==============================] - 0s 154us/step - loss: 0.0169 - val_loss: 0.2450\n",
      "Epoch 7/130\n",
      "583/583 [==============================] - 0s 155us/step - loss: 0.0178 - val_loss: 0.2440\n",
      "Epoch 8/130\n",
      "583/583 [==============================] - 0s 156us/step - loss: 0.0166 - val_loss: 0.2398\n",
      "Epoch 9/130\n",
      "583/583 [==============================] - 0s 158us/step - loss: 0.0175 - val_loss: 0.2387\n",
      "Epoch 10/130\n",
      "583/583 [==============================] - 0s 158us/step - loss: 0.0163 - val_loss: 0.2345\n",
      "Epoch 11/130\n",
      "583/583 [==============================] - 0s 157us/step - loss: 0.0171 - val_loss: 0.2334\n",
      "Epoch 12/130\n",
      "583/583 [==============================] - 0s 156us/step - loss: 0.0159 - val_loss: 0.2290\n",
      "Epoch 13/130\n",
      "583/583 [==============================] - 0s 159us/step - loss: 0.0168 - val_loss: 0.2278\n",
      "Epoch 14/130\n",
      "583/583 [==============================] - 0s 165us/step - loss: 0.0155 - val_loss: 0.2233\n",
      "Epoch 15/130\n",
      "583/583 [==============================] - 0s 186us/step - loss: 0.0165 - val_loss: 0.2221\n",
      "Epoch 16/130\n",
      "583/583 [==============================] - 0s 175us/step - loss: 0.0151 - val_loss: 0.2173\n",
      "Epoch 17/130\n",
      "583/583 [==============================] - 0s 159us/step - loss: 0.0162 - val_loss: 0.2159\n",
      "Epoch 18/130\n",
      "583/583 [==============================] - 0s 159us/step - loss: 0.0148 - val_loss: 0.2113\n",
      "Epoch 19/130\n",
      "583/583 [==============================] - 0s 165us/step - loss: 0.0157 - val_loss: 0.2100\n",
      "Epoch 20/130\n",
      "583/583 [==============================] - 0s 169us/step - loss: 0.0143 - val_loss: 0.2047\n",
      "Epoch 21/130\n",
      "583/583 [==============================] - 0s 164us/step - loss: 0.0154 - val_loss: 0.2033\n",
      "Epoch 22/130\n",
      "583/583 [==============================] - 0s 181us/step - loss: 0.0138 - val_loss: 0.1978\n",
      "Epoch 23/130\n",
      "583/583 [==============================] - 0s 177us/step - loss: 0.0150 - val_loss: 0.1965\n",
      "Epoch 24/130\n",
      "583/583 [==============================] - 0s 161us/step - loss: 0.0134 - val_loss: 0.1903\n",
      "Epoch 25/130\n",
      "583/583 [==============================] - 0s 180us/step - loss: 0.0147 - val_loss: 0.1887\n",
      "Epoch 26/130\n",
      "583/583 [==============================] - 0s 187us/step - loss: 0.0129 - val_loss: 0.1826\n",
      "Epoch 27/130\n",
      "583/583 [==============================] - 0s 171us/step - loss: 0.0143 - val_loss: 0.1807\n",
      "Epoch 28/130\n",
      "583/583 [==============================] - 0s 172us/step - loss: 0.0124 - val_loss: 0.1743\n",
      "Epoch 29/130\n",
      "583/583 [==============================] - 0s 160us/step - loss: 0.0138 - val_loss: 0.1724\n",
      "Epoch 30/130\n",
      "583/583 [==============================] - 0s 171us/step - loss: 0.0118 - val_loss: 0.1656\n",
      "Epoch 31/130\n",
      "583/583 [==============================] - 0s 190us/step - loss: 0.0132 - val_loss: 0.1638\n",
      "Epoch 32/130\n",
      "583/583 [==============================] - 0s 166us/step - loss: 0.0112 - val_loss: 0.1558\n",
      "Epoch 33/130\n",
      "583/583 [==============================] - 0s 173us/step - loss: 0.0128 - val_loss: 0.1537\n",
      "Epoch 34/130\n",
      "583/583 [==============================] - 0s 177us/step - loss: 0.0106 - val_loss: 0.1460\n",
      "Epoch 35/130\n",
      "583/583 [==============================] - 0s 180us/step - loss: 0.0121 - val_loss: 0.1439\n",
      "Epoch 36/130\n",
      "583/583 [==============================] - 0s 172us/step - loss: 0.0099 - val_loss: 0.1346\n",
      "Epoch 37/130\n",
      "583/583 [==============================] - 0s 198us/step - loss: 0.0119 - val_loss: 0.1317\n",
      "Epoch 38/130\n",
      "583/583 [==============================] - 0s 198us/step - loss: 0.0093 - val_loss: 0.1239\n",
      "Epoch 39/130\n",
      "583/583 [==============================] - 0s 174us/step - loss: 0.0108 - val_loss: 0.1212\n",
      "Epoch 40/130\n",
      "583/583 [==============================] - 0s 167us/step - loss: 0.0085 - val_loss: 0.1108\n",
      "Epoch 41/130\n",
      "583/583 [==============================] - 0s 173us/step - loss: 0.0106 - val_loss: 0.1072\n",
      "Epoch 42/130\n",
      "583/583 [==============================] - 0s 195us/step - loss: 0.0078 - val_loss: 0.0989\n",
      "Epoch 43/130\n",
      "583/583 [==============================] - 0s 188us/step - loss: 0.0091 - val_loss: 0.0958\n",
      "Epoch 44/130\n",
      "583/583 [==============================] - 0s 180us/step - loss: 0.0069 - val_loss: 0.0864\n",
      "Epoch 45/130\n",
      "583/583 [==============================] - 0s 199us/step - loss: 0.0074 - val_loss: 0.0807\n",
      "Epoch 46/130\n",
      "583/583 [==============================] - 0s 177us/step - loss: 0.0060 - val_loss: 0.0707\n",
      "Epoch 47/130\n",
      "583/583 [==============================] - 0s 163us/step - loss: 0.0070 - val_loss: 0.0667\n",
      "Epoch 48/130\n",
      "583/583 [==============================] - 0s 181us/step - loss: 0.0053 - val_loss: 0.0537\n",
      "Epoch 49/130\n",
      "583/583 [==============================] - 0s 203us/step - loss: 0.0065 - val_loss: 0.0516\n",
      "Epoch 50/130\n",
      "583/583 [==============================] - 0s 203us/step - loss: 0.0045 - val_loss: 0.0388\n",
      "Epoch 51/130\n",
      "583/583 [==============================] - 0s 172us/step - loss: 0.0049 - val_loss: 0.0346\n",
      "Epoch 52/130\n",
      "583/583 [==============================] - 0s 167us/step - loss: 0.0032 - val_loss: 0.0268\n",
      "Epoch 53/130\n",
      "583/583 [==============================] - 0s 170us/step - loss: 0.0034 - val_loss: 0.0238\n",
      "Epoch 54/130\n",
      "583/583 [==============================] - 0s 162us/step - loss: 0.0023 - val_loss: 0.0209\n",
      "Epoch 55/130\n",
      "583/583 [==============================] - 0s 181us/step - loss: 0.0019 - val_loss: 0.0213\n",
      "Epoch 56/130\n",
      "583/583 [==============================] - 0s 169us/step - loss: 0.0023 - val_loss: 0.0240\n",
      "Epoch 57/130\n",
      "583/583 [==============================] - 0s 161us/step - loss: 0.0015 - val_loss: 0.0267\n",
      "Epoch 58/130\n",
      "583/583 [==============================] - 0s 159us/step - loss: 0.0024 - val_loss: 0.0297\n",
      "Epoch 59/130\n",
      "583/583 [==============================] - 0s 156us/step - loss: 0.0015 - val_loss: 0.0270\n",
      "Epoch 60/130\n",
      "583/583 [==============================] - 0s 188us/step - loss: 0.0012 - val_loss: 0.0247\n",
      "Epoch 61/130\n",
      "583/583 [==============================] - 0s 164us/step - loss: 0.0013 - val_loss: 0.0246\n",
      "Epoch 62/130\n",
      "583/583 [==============================] - 0s 153us/step - loss: 0.0011 - val_loss: 0.0250\n",
      "Epoch 63/130\n",
      "583/583 [==============================] - 0s 156us/step - loss: 0.0013 - val_loss: 0.0255\n",
      "Epoch 64/130\n",
      "583/583 [==============================] - 0s 168us/step - loss: 0.0012 - val_loss: 0.0263\n",
      "Epoch 65/130\n",
      "583/583 [==============================] - 0s 164us/step - loss: 0.0013 - val_loss: 0.0251\n",
      "Epoch 66/130\n",
      "583/583 [==============================] - 0s 180us/step - loss: 0.0013 - val_loss: 0.0248\n",
      "Epoch 67/130\n",
      "583/583 [==============================] - 0s 187us/step - loss: 0.0013 - val_loss: 0.0246\n",
      "Epoch 68/130\n",
      "583/583 [==============================] - 0s 164us/step - loss: 0.0013 - val_loss: 0.0246\n",
      "Epoch 69/130\n",
      "583/583 [==============================] - 0s 178us/step - loss: 0.0013 - val_loss: 0.0246\n",
      "Epoch 70/130\n",
      "583/583 [==============================] - 0s 175us/step - loss: 0.0013 - val_loss: 0.0248\n",
      "Epoch 71/130\n",
      "583/583 [==============================] - 0s 179us/step - loss: 0.0013 - val_loss: 0.0247\n",
      "Epoch 72/130\n",
      "583/583 [==============================] - 0s 165us/step - loss: 0.0013 - val_loss: 0.0248\n",
      "Epoch 73/130\n",
      "583/583 [==============================] - 0s 165us/step - loss: 0.0013 - val_loss: 0.0247\n",
      "Epoch 74/130\n",
      "583/583 [==============================] - 0s 168us/step - loss: 0.0013 - val_loss: 0.0248\n",
      "Epoch 75/130\n",
      "583/583 [==============================] - 0s 162us/step - loss: 0.0013 - val_loss: 0.0247\n",
      "Epoch 76/130\n",
      "583/583 [==============================] - 0s 163us/step - loss: 0.0013 - val_loss: 0.0248\n",
      "Epoch 77/130\n",
      "583/583 [==============================] - 0s 159us/step - loss: 0.0013 - val_loss: 0.0247\n",
      "Epoch 78/130\n",
      "583/583 [==============================] - 0s 158us/step - loss: 0.0013 - val_loss: 0.0247\n",
      "Epoch 79/130\n",
      "583/583 [==============================] - 0s 156us/step - loss: 0.0013 - val_loss: 0.0247\n",
      "Epoch 80/130\n",
      "583/583 [==============================] - 0s 164us/step - loss: 0.0013 - val_loss: 0.0247\n",
      "Epoch 81/130\n",
      "583/583 [==============================] - 0s 160us/step - loss: 0.0013 - val_loss: 0.0249\n",
      "Epoch 82/130\n",
      "583/583 [==============================] - 0s 160us/step - loss: 0.0016 - val_loss: 0.0247\n",
      "Epoch 83/130\n",
      "583/583 [==============================] - 0s 158us/step - loss: 0.0020 - val_loss: 0.0246\n",
      "Epoch 84/130\n",
      "583/583 [==============================] - 0s 157us/step - loss: 0.0015 - val_loss: 0.0258\n",
      "Epoch 85/130\n",
      "583/583 [==============================] - 0s 155us/step - loss: 0.0014 - val_loss: 0.0262\n",
      "Epoch 86/130\n",
      "583/583 [==============================] - 0s 155us/step - loss: 0.0017 - val_loss: 0.0265\n",
      "Epoch 87/130\n",
      "583/583 [==============================] - 0s 153us/step - loss: 0.0014 - val_loss: 0.0255\n",
      "Epoch 88/130\n",
      "583/583 [==============================] - 0s 157us/step - loss: 0.0016 - val_loss: 0.0250\n",
      "Epoch 89/130\n",
      "583/583 [==============================] - 0s 156us/step - loss: 0.0015 - val_loss: 0.0247\n",
      "Epoch 90/130\n",
      "583/583 [==============================] - 0s 160us/step - loss: 0.0016 - val_loss: 0.0246\n",
      "Epoch 91/130\n",
      "583/583 [==============================] - 0s 173us/step - loss: 0.0015 - val_loss: 0.0245\n",
      "Epoch 92/130\n",
      "583/583 [==============================] - 0s 186us/step - loss: 0.0015 - val_loss: 0.0245\n",
      "Epoch 93/130\n",
      "583/583 [==============================] - 0s 178us/step - loss: 0.0015 - val_loss: 0.0246\n",
      "Epoch 94/130\n",
      "583/583 [==============================] - 0s 176us/step - loss: 0.0016 - val_loss: 0.0247\n",
      "Epoch 95/130\n",
      "583/583 [==============================] - 0s 177us/step - loss: 0.0015 - val_loss: 0.0246\n",
      "Epoch 96/130\n",
      "583/583 [==============================] - 0s 174us/step - loss: 0.0015 - val_loss: 0.0246\n",
      "Epoch 97/130\n",
      "583/583 [==============================] - 0s 177us/step - loss: 0.0015 - val_loss: 0.0245\n",
      "Epoch 98/130\n",
      "583/583 [==============================] - 0s 176us/step - loss: 0.0015 - val_loss: 0.0245\n",
      "Epoch 99/130\n",
      "583/583 [==============================] - 0s 212us/step - loss: 0.0015 - val_loss: 0.0244\n",
      "Epoch 100/130\n",
      "583/583 [==============================] - 0s 203us/step - loss: 0.0015 - val_loss: 0.0244\n",
      "Epoch 101/130\n",
      "583/583 [==============================] - 0s 191us/step - loss: 0.0015 - val_loss: 0.0244\n",
      "Epoch 102/130\n",
      "583/583 [==============================] - 0s 184us/step - loss: 0.0015 - val_loss: 0.0244\n",
      "Epoch 103/130\n",
      "583/583 [==============================] - 0s 173us/step - loss: 0.0015 - val_loss: 0.0244\n",
      "Epoch 104/130\n",
      "583/583 [==============================] - 0s 182us/step - loss: 0.0015 - val_loss: 0.0244\n",
      "Epoch 105/130\n",
      "583/583 [==============================] - 0s 183us/step - loss: 0.0015 - val_loss: 0.0244\n",
      "Epoch 106/130\n",
      "583/583 [==============================] - 0s 197us/step - loss: 0.0015 - val_loss: 0.0243\n",
      "Epoch 107/130\n",
      "583/583 [==============================] - 0s 195us/step - loss: 0.0015 - val_loss: 0.0243\n",
      "Epoch 108/130\n",
      "583/583 [==============================] - 0s 190us/step - loss: 0.0015 - val_loss: 0.0243\n",
      "Epoch 109/130\n",
      "583/583 [==============================] - 0s 196us/step - loss: 0.0015 - val_loss: 0.0243\n",
      "Epoch 110/130\n",
      "583/583 [==============================] - 0s 164us/step - loss: 0.0015 - val_loss: 0.0243\n",
      "Epoch 111/130\n",
      "583/583 [==============================] - 0s 171us/step - loss: 0.0015 - val_loss: 0.0242\n",
      "Epoch 112/130\n",
      "583/583 [==============================] - 0s 185us/step - loss: 0.0015 - val_loss: 0.0242\n",
      "Epoch 113/130\n",
      "583/583 [==============================] - 0s 174us/step - loss: 0.0015 - val_loss: 0.0242\n",
      "Epoch 114/130\n",
      "583/583 [==============================] - 0s 175us/step - loss: 0.0015 - val_loss: 0.0242\n",
      "Epoch 115/130\n",
      "583/583 [==============================] - 0s 170us/step - loss: 0.0015 - val_loss: 0.0243\n",
      "Epoch 116/130\n",
      "583/583 [==============================] - 0s 174us/step - loss: 0.0015 - val_loss: 0.0244\n",
      "Epoch 117/130\n",
      "583/583 [==============================] - 0s 176us/step - loss: 0.0015 - val_loss: 0.0244\n",
      "Epoch 118/130\n",
      "583/583 [==============================] - 0s 206us/step - loss: 0.0015 - val_loss: 0.0244\n",
      "Epoch 119/130\n",
      "583/583 [==============================] - 0s 198us/step - loss: 0.0015 - val_loss: 0.0243\n",
      "Epoch 120/130\n",
      "583/583 [==============================] - 0s 181us/step - loss: 0.0015 - val_loss: 0.0243\n",
      "Epoch 121/130\n",
      "583/583 [==============================] - 0s 173us/step - loss: 0.0015 - val_loss: 0.0242\n",
      "Epoch 122/130\n",
      "583/583 [==============================] - 0s 192us/step - loss: 0.0015 - val_loss: 0.0242\n",
      "Epoch 123/130\n",
      "583/583 [==============================] - 0s 209us/step - loss: 0.0015 - val_loss: 0.0241\n",
      "Epoch 124/130\n",
      "583/583 [==============================] - 0s 212us/step - loss: 0.0015 - val_loss: 0.0241\n",
      "Epoch 125/130\n",
      "583/583 [==============================] - 0s 200us/step - loss: 0.0015 - val_loss: 0.0241\n",
      "Epoch 126/130\n",
      "583/583 [==============================] - 0s 205us/step - loss: 0.0015 - val_loss: 0.0240\n",
      "Epoch 127/130\n",
      "583/583 [==============================] - 0s 189us/step - loss: 0.0015 - val_loss: 0.0240\n",
      "Epoch 128/130\n",
      "583/583 [==============================] - 0s 199us/step - loss: 0.0015 - val_loss: 0.0240\n",
      "Epoch 129/130\n",
      "583/583 [==============================] - 0s 188us/step - loss: 0.0015 - val_loss: 0.0240\n",
      "Epoch 130/130\n",
      "583/583 [==============================] - 0s 181us/step - loss: 0.0015 - val_loss: 0.0240\n"
     ]
    },
    {
     "data": {
      "image/png": "[encoded data removed]",
      "text/plain": [
       "<matplotlib.figure.Figure at 0x1a2055db38>"
      ]
     },
     "metadata": {},
     "output_type": "display_data"
    }
   ],
   "source": [
    "history = model.fit(train_X, train_y, epochs=130, batch_size=72, validation_data=(test_X, test_y), verbose=1, shuffle=False)\n",
    "pyplot.plot(history.history['loss'], label='train')\n",
    "pyplot.plot(history.history['val_loss'], label='test')\n",
    "pyplot.legend()\n",
    "pyplot.show()"
   ]
  },
  {
   "cell_type": "markdown",
   "metadata": {
    "collapsed": true
   },
   "source": [
    "Prediction of the model.\n",
    "<br>\n",
    "Following steps are taken:\n",
    "<br>\n",
    "- Prediction\n",
    "- Invert scaling for forecast\n",
    "- Invert scaling for actual\n",
    "- Calculate RMSE\n",
    "- Prediction on train\n",
    "- Invert scaling for train forecast\n",
    "- Invert scaling for train actual\n",
    "- Calculate train RMSE\n",
    "- Calculate MAPE"
   ]
  },
  {
   "cell_type": "code",
   "execution_count": 11,
   "metadata": {
    "collapsed": false
   },
   "outputs": [
    {
     "name": "stdout",
     "output_type": "stream",
     "text": [
      "Train RMSE (Root Mean Squared Error): 1.037\n",
      "Test RMSE (Root Mean Squared Error): 18.527\n",
      "\n",
      "Train MAE (Mean Absolute Error): 0.601\n",
      "Test MAE (Mean Absolute Error): 8.452\n",
      "Mean Absolute Percentage Error =  5.52983433008\n"
     ]
    }
   ],
   "source": [
    "# make a prediction with model\n",
    "yhat = model.predict(test_X)\n",
    "test_X = test_X.reshape((test_X.shape[0], n_days*n_features))\n",
    "# invert scaling for forecast\n",
    "inv_yhat = concatenate((yhat, test_X[:, -(n_features-1):]), axis=1)\n",
    "inv_yhat = scaler.inverse_transform(inv_yhat)\n",
    "inv_yhat = inv_yhat[:,0]\n",
    "# invert scaling for actual\n",
    "test_y = test_y.reshape((len(test_y), 1))\n",
    "inv_y = concatenate((test_y, test_X[:, -(n_features-1):]), axis=1)\n",
    "inv_y = scaler.inverse_transform(inv_y)\n",
    "inv_y = inv_y[:,0]\n",
    "# calculate RMSE\n",
    "\n",
    "\n",
    "# make a prediction with model for train\n",
    "trainyhat = model.predict(train_X)\n",
    "train_X = train_X.reshape((train_X.shape[0], n_days*n_features))\n",
    "# invert scaling for forecast\n",
    "traininv_yhat = concatenate((trainyhat, train_X[:, -(n_features-1):]), axis=1)\n",
    "traininv_yhat = scaler.inverse_transform(traininv_yhat)\n",
    "traininv_yhat = traininv_yhat[:,0]\n",
    "# invert scaling for actual\n",
    "train_y = train_y.reshape((len(train_y), 1))\n",
    "traininv_y = concatenate((train_y, train_X[:, -(n_features-1):]), axis=1)\n",
    "traininv_y = scaler.inverse_transform(traininv_y)\n",
    "traininv_y = traininv_y[:,0]\n",
    "\n",
    "\n",
    "\n",
    "trainrmse = sqrt(mean_squared_error(traininv_y, traininv_yhat))\n",
    "testrmse = sqrt(mean_squared_error(inv_y, inv_yhat))\n",
    "\n",
    "print('Train RMSE (Root Mean Squared Error): %.3f' % trainrmse)\n",
    "print('Test RMSE (Root Mean Squared Error): %.3f' % testrmse)\n",
    "print('')\n",
    "\n",
    "testmae = mean_absolute_error(inv_y, inv_yhat)\n",
    "trainmae = mean_absolute_error(traininv_y, traininv_yhat)\n",
    "\n",
    "print('Train MAE (Mean Absolute Error): %.3f' % trainmae)\n",
    "print('Test MAE (Mean Absolute Error): %.3f' % testmae)\n",
    "\n",
    "\n",
    "def mean_absolute_percentage_error(y_true, y_pred): \n",
    "    y_true, y_pred = np.array(y_true), np.array(y_pred)\n",
    "    return np.mean(np.abs((y_true - y_pred) / y_true)) * 100\n",
    "\n",
    "MAPE = mean_absolute_percentage_error(inv_y, inv_yhat )\n",
    "print(\"Mean Absolute Percentage Error = \", MAPE)"
   ]
  },
  {
   "cell_type": "markdown",
   "metadata": {
    "collapsed": true
   },
   "source": [
    "Plot predicted versus real values"
   ]
  },
  {
   "cell_type": "code",
   "execution_count": 12,
   "metadata": {
    "collapsed": false
   },
   "outputs": [
    {
     "data": {
      "image/png": "[encoded data removed]",
      "text/plain": [
       "<matplotlib.figure.Figure at 0x1a2137d748>"
      ]
     },
     "metadata": {},
     "output_type": "display_data"
    }
   ],
   "source": [
    "pyplot.plot(inv_yhat, label='predict')\n",
    "pyplot.plot(inv_y, label='actual', alpha=0.5)\n",
    "pyplot.legend()\n",
    "pyplot.show()"
   ]
  },
  {
   "cell_type": "markdown",
   "metadata": {
    "collapsed": true
   },
   "source": [
    "Create dataframe whith predicted, true and percentge difference between predicted and true"
   ]
  },
  {
   "cell_type": "code",
   "execution_count": 13,
   "metadata": {
    "collapsed": false,
    "scrolled": false
   },
   "outputs": [
    {
     "name": "stdout",
     "output_type": "stream",
     "text": [
      "           pred        real  percentage change  pred_change  real_change\n",
      "0     45.689869   47.422501          -3.653607     0.000000     0.000000\n",
      "1     47.542709   48.497498          -1.968737     1.852840     1.074997\n",
      "2     48.663834   47.389999           2.687981     1.121124    -1.107498\n",
      "3     47.508835   46.807499           1.498341    -1.154999    -0.582500\n",
      "4     46.902039   46.847496           0.116426    -0.606796     0.039997\n",
      "5     46.943691   46.195000           1.620720     0.041653    -0.652496\n",
      "6     46.264500   45.892506           0.810577    -0.679192    -0.302494\n",
      "7     45.949841   44.312496           3.694995    -0.314659    -1.580009\n",
      "8     44.308353   43.787498           1.189506    -1.641487    -0.524998\n",
      "9     43.763702   44.174999          -0.931062    -0.544651     0.387501\n",
      "10    44.165668   45.657501          -3.267443     0.401966     1.482502\n",
      "11    45.705471   45.847496          -0.309777     1.539803     0.189995\n",
      "12    45.903034   45.977505          -0.161972     0.197563     0.130009\n",
      "13    46.038250   47.125000          -2.306101     0.135216     1.147495\n",
      "14    47.232731   47.002502           0.489822     1.194481    -0.122498\n",
      "15    47.105125   50.305000          -6.360948    -0.127605     3.302498\n",
      "16    50.552509   51.619999          -2.067977     3.447384     1.314999\n",
      "17    51.929401   50.830002           2.162895     1.376892    -0.789997\n",
      "18    51.101936   51.407501          -0.594397    -0.827465     0.577499\n",
      "19    51.706741   57.259998          -9.698318     0.604805     5.852497\n",
      "20    57.861721   62.127499          -6.866167     6.154980     4.867500\n",
      "21    63.016048   62.527496           0.781340     5.154327     0.399998\n",
      "22    63.441025   63.110001           0.524519     0.424976     0.582504\n",
      "23    64.060287   67.885002          -5.634109     0.619263     4.775002\n",
      "24    69.153397   78.580002         -11.996189     5.093109    10.695000\n",
      "25    80.667679   82.287498          -1.968488    11.514282     3.707497\n",
      "26    84.692825   78.065002           8.490133     4.025146    -4.222496\n",
      "27    80.109909   69.977501          14.479523    -4.582916    -8.087502\n",
      "28    71.394669   67.007500           6.547280    -8.715240    -2.970001\n",
      "29    68.215202   76.010002         -10.254966    -3.179466     9.002502\n",
      "..          ...         ...                ...          ...          ...\n",
      "116   96.183411  100.334999          -4.137727     6.841980     7.547501\n",
      "117  104.523544  101.485001           2.994081     8.340134     1.150002\n",
      "118  105.800087  101.602509           4.131372     1.276543     0.117508\n",
      "119  105.930611  103.205002           2.640966     0.130524     1.602493\n",
      "120  107.712128  101.239998           6.392858     1.781517    -1.965004\n",
      "121  105.528000   97.970001           7.714605    -2.184128    -3.269997\n",
      "122  101.903099  112.912498          -9.750381    -3.624901    14.942497\n",
      "123  118.565170  145.214996         -18.351980    16.662071    32.302498\n",
      "124  155.382599  147.520004           5.329850    36.817429     2.305008\n",
      "125  158.047989  183.772491         -13.998015     2.665390    36.252487\n",
      "126  200.550262  270.005005         -25.723501    42.502274    86.232513\n",
      "127  304.877380  311.809998          -2.223347   104.327118    41.804993\n",
      "128  356.345154  289.377502          23.141968    51.467773   -22.432495\n",
      "129  328.691986  287.095001          14.488927   -27.653168    -2.282501\n",
      "130  325.882202  299.584991           8.777880    -2.809784    12.489990\n",
      "131  341.267609  313.717499           8.781821    15.385406    14.132507\n",
      "132  358.698944  335.054993           7.056738    17.431335    21.337494\n",
      "133  385.036621  355.087494           8.434295    26.337677    20.032501\n",
      "134  409.753937  330.612488          23.937828    24.717316   -24.475006\n",
      "135  379.552734  317.847504          19.413469   -30.201202   -12.764984\n",
      "136  363.795776  272.992493          33.262192   -15.756958   -44.855011\n",
      "137  308.544434  282.962494           9.040752   -55.251343     9.970001\n",
      "138  320.797394  277.260010          15.702727    12.252960    -5.702484\n",
      "139  313.786469  276.809998          13.358068    -7.010925    -0.450012\n",
      "140  313.233459  280.345001          11.731423    -0.553009     3.535004\n",
      "141  317.578491  278.529999          14.019492     4.345032    -1.815002\n",
      "142  315.347290  256.654999          22.868166    -2.231201   -21.875000\n",
      "143  288.520538  248.054993          16.313135   -26.826752    -8.600006\n",
      "144  278.013275  229.419998          21.180925   -10.507263   -18.634995\n",
      "145  255.342239  225.167496          13.401021   -22.671036    -4.252502\n",
      "\n",
      "[146 rows x 5 columns]\n"
     ]
    }
   ],
   "source": [
    "d = {'real':inv_y, 'pred':inv_yhat}\n",
    "pred = DataFrame(data=d)\n",
    "pred['percentage change'] = (((pred['pred'] - pred['real'])/(pred['real']))*100)\n",
    "pred['pred_change'] = pred.pred.diff().fillna(0)\n",
    "pred['real_change'] = pred.real.diff().fillna(0)\n",
    "print(pred)"
   ]
  },
  {
   "cell_type": "markdown",
   "metadata": {
    "collapsed": true
   },
   "source": [
    "Calculate acurracy:\n",
    "\n",
    "\\begin{equation*}\n",
    "Accuracy = \\frac{TP+TN}{(TP + TN + TP + TN)}\n",
    "\\end{equation*}"
   ]
  },
  {
   "cell_type": "code",
   "execution_count": 14,
   "metadata": {
    "collapsed": false
   },
   "outputs": [
    {
     "name": "stdout",
     "output_type": "stream",
     "text": [
      "Accuracy of correct direction prediction (up/down):  61.64383561643836\n"
     ]
    }
   ],
   "source": [
    "def accuracy(df):\n",
    "    count = 0\n",
    "    for index, row in pred.iterrows():\n",
    "        if row['pred_change'] < 0 and row['real_change'] < 0 or row['pred_change'] > 0 and row['real_change'] > 0:\n",
    "            count += 1\n",
    "    return count/len(df)*100\n",
    "\n",
    "print('Accuracy of correct direction prediction (up/down): ', accuracy(pred))"
   ]
  },
  {
   "cell_type": "code",
   "execution_count": 15,
   "metadata": {
    "collapsed": false
   },
   "outputs": [
    {
     "name": "stdout",
     "output_type": "stream",
     "text": [
      "Variance of incorrect prediction how far off (up/down):  4.81136349327\n"
     ]
    }
   ],
   "source": [
    "def variance(df):\n",
    "    count = 0\n",
    "    percentage = 0\n",
    "    for index, row in pred.iterrows():\n",
    "        if row['pred_change'] < 0 and row['real_change'] > 0 or row['pred_change'] > 0 and row['real_change'] < 0:\n",
    "            count += 1\n",
    "            percentage += abs(row['percentage change'])\n",
    "    return percentage/count\n",
    "\n",
    "print('Variance of incorrect prediction how far off (up/down): ', variance(pred))"
   ]
  },
  {
   "cell_type": "markdown",
   "metadata": {
    "collapsed": true
   },
   "source": [
    "Calculate F1-score by creating classes"
   ]
  },
  {
   "cell_type": "code",
   "execution_count": 16,
   "metadata": {
    "collapsed": false
   },
   "outputs": [
    {
     "name": "stdout",
     "output_type": "stream",
     "text": [
      "The F1 score: 66.66666666666667\n"
     ]
    }
   ],
   "source": [
    "def f1_score(df):\n",
    "    TN = 0\n",
    "    TP = 0\n",
    "    FN = 0\n",
    "    FP = 0\n",
    "    for index, row in pred.iterrows():\n",
    "            if row['pred_change'] < 0 and row['real_change'] < 0: \n",
    "                TN += 1\n",
    "            elif row['pred_change'] > 0 and row['real_change'] > 0:\n",
    "                TP += 1\n",
    "            elif row['pred_change'] < 0 and row['real_change'] > 0:\n",
    "                FN += 1\n",
    "            elif row['pred_change'] > 0 and row['real_change'] < 0:\n",
    "                FP += 1\n",
    "\n",
    "    precision = TP/(TP+FP)\n",
    "    recall = TP/(TP+FN)\n",
    "    f1 = 2*((recall*precision)/(recall + precision))\n",
    "    return f1*100\n",
    "\n",
    "print('The F1 score:',f1_score(df))"
   ]
  },
  {
   "cell_type": "code",
   "execution_count": null,
   "metadata": {
    "collapsed": true
   },
   "outputs": [],
   "source": []
  },
  {
   "cell_type": "code",
   "execution_count": null,
   "metadata": {
    "collapsed": true
   },
   "outputs": [],
   "source": []
  }
 ],
 "metadata": {
  "anaconda-cloud": {},
  "kernelspec": {
   "display_name": "Python [default]",
   "language": "python",
   "name": "python3"
  },
  "language_info": {
   "codemirror_mode": {
    "name": "ipython",
    "version": 3
   },
   "file_extension": ".py",
   "mimetype": "text/x-python",
   "name": "python",
   "nbconvert_exporter": "python",
   "pygments_lexer": "ipython3",
   "version": "3.5.2"
  }
 },
 "nbformat": 4,
 "nbformat_minor": 2
}
