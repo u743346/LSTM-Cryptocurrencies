{
 "cells": [
  {
   "cell_type": "markdown",
   "metadata": {},
   "source": [
    "# Full script for LSTM cryptocurrency prediction\n",
    "\n",
    "u743346\n",
    "<br>\n",
    "Gerlof Bremmer\n",
    "<br>\n",
    "g.d.bremmer@tilburguniversity.edu"
   ]
  },
  {
   "cell_type": "markdown",
   "metadata": {},
   "source": [
    "Import neccasary packages and set random seed for reproducability"
   ]
  },
  {
   "cell_type": "code",
   "execution_count": 1,
   "metadata": {
    "collapsed": false
   },
   "outputs": [
    {
     "name": "stderr",
     "output_type": "stream",
     "text": [
      "Using TensorFlow backend.\n"
     ]
    }
   ],
   "source": [
    "from math import sqrt\n",
    "import math\n",
    "\n",
    "import numpy as np\n",
    "from numpy import concatenate\n",
    "\n",
    "from vaderSentiment.vaderSentiment import SentimentIntensityAnalyzer\n",
    "\n",
    "import time\n",
    "\n",
    "from matplotlib import pyplot\n",
    "import matplotlib.pyplot as plt\n",
    "\n",
    "\n",
    "import pandas as pd\n",
    "from pandas import DataFrame\n",
    "from pandas import concat\n",
    "from pandas import Series\n",
    "from pandas import Panel\n",
    "\n",
    "from sklearn import preprocessing\n",
    "from sklearn.metrics import mean_squared_error\n",
    "from sklearn.metrics import mean_absolute_error\n",
    "from sklearn.preprocessing import MinMaxScaler\n",
    "\n",
    "\n",
    "import keras\n",
    "from keras.models import Sequential\n",
    "from keras.layers import Dense\n",
    "from keras.layers import Activation\n",
    "from keras.layers import Dropout\n",
    "from keras.layers import LSTM\n",
    "from keras.layers import Embedding\n",
    "from keras.wrappers.scikit_learn import KerasRegressor\n",
    "from keras import regularizers\n",
    "\n",
    "import tensorflow as tf"
   ]
  },
  {
   "cell_type": "code",
   "execution_count": 2,
   "metadata": {
    "collapsed": true
   },
   "outputs": [],
   "source": [
    "seed = 1337\n",
    "np.random.seed(seed)"
   ]
  },
  {
   "cell_type": "markdown",
   "metadata": {},
   "source": [
    "pylab inline to show graphs inline"
   ]
  },
  {
   "cell_type": "code",
   "execution_count": 3,
   "metadata": {
    "collapsed": false
   },
   "outputs": [
    {
     "name": "stdout",
     "output_type": "stream",
     "text": [
      "Populating the interactive namespace from numpy and matplotlib\n"
     ]
    },
    {
     "name": "stderr",
     "output_type": "stream",
     "text": [
      "/Users/gerlofbremmer/anaconda/lib/python3.5/site-packages/IPython/core/magics/pylab.py:161: UserWarning: pylab import has clobbered these variables: ['sqrt', 'seed']\n",
      "`%matplotlib` prevents importing * from pylab and numpy\n",
      "  \"\\n`%matplotlib` prevents importing * from pylab and numpy\"\n"
     ]
    }
   ],
   "source": [
    "%pylab inline"
   ]
  },
  {
   "cell_type": "markdown",
   "metadata": {},
   "source": [
    "# 1. Comment data pre-processing and sentiment calculation"
   ]
  },
  {
   "cell_type": "markdown",
   "metadata": {},
   "source": [
    "Load scraped data json"
   ]
  },
  {
   "cell_type": "code",
   "execution_count": null,
   "metadata": {
    "collapsed": true
   },
   "outputs": [],
   "source": [
    "ltc = pd.read_json('ltc.json', lines=True)\n",
    "xrp = pd.read_json('xrp.json', lines=True)\n",
    "eth = pd.read_json('eth.json', lines=True)"
   ]
  },
  {
   "cell_type": "markdown",
   "metadata": {},
   "source": [
    "Exploration"
   ]
  },
  {
   "cell_type": "code",
   "execution_count": null,
   "metadata": {
    "collapsed": true
   },
   "outputs": [],
   "source": [
    "ltc.info()\n",
    "eth.info()\n",
    "xrp.info()"
   ]
  },
  {
   "cell_type": "markdown",
   "metadata": {},
   "source": [
    "Test if all comment ID's are unique"
   ]
  },
  {
   "cell_type": "code",
   "execution_count": null,
   "metadata": {
    "collapsed": true
   },
   "outputs": [],
   "source": [
    "def unique(df):\n",
    "    return df.id.nunique()\n",
    "\n",
    "print(unique(ltc))\n",
    "print(unique(eth))\n",
    "print(unique(xrp))"
   ]
  },
  {
   "cell_type": "markdown",
   "metadata": {},
   "source": [
    "Filtering the dataset to only usefull columns"
   ]
  },
  {
   "cell_type": "code",
   "execution_count": null,
   "metadata": {
    "collapsed": true
   },
   "outputs": [],
   "source": [
    "def filter_col(df, cols):\n",
    "    return df.drop(df.columns[[cols]], axis=1)\n",
    "\n",
    "ltc = filter_col(ltc, [0,2,3,4,5,6,7,8,9,11,12,13,14,15,16,18,19,20,22,23,24,25,26,27,28,29,30,31,32,33,35,36,37,38,39])\n",
    "eth = filter_col(eth, [0,2,3,4,5,6,7,8,9,11,12,13,14,15,16,18,19,20,22,23,24,25,26,27,28,29,30,31,32,33,35,36,37,38,39])\n",
    "xrp = filter_col(xrp, [0,2,3,4,5,6,7,8,9,11,12,13,14,15,16,18,19,20,22,23,24,25,26,27,28,29,30,31,32,33,35,36,37,38,39])\n"
   ]
  },
  {
   "cell_type": "markdown",
   "metadata": {},
   "source": [
    "Drop comments from before 01-01-2016 = after epoch 1451606401 & before 1514764799"
   ]
  },
  {
   "cell_type": "code",
   "execution_count": null,
   "metadata": {
    "collapsed": true
   },
   "outputs": [],
   "source": [
    "ltc = ltc[ltc['created_utc'] >= 1451606401]\n",
    "ltc = ltc[ltc['created_utc'] <= 1514764799]\n",
    "eth = eth[eth['created_utc'] >= 1451606401]\n",
    "eth = eth[eth['created_utc'] <= 1514764799]\n",
    "xrp = xrp[xrp['created_utc'] >= 1451606401]\n",
    "xrp = xrp[xrp['created_utc'] <= 1514764799]"
   ]
  },
  {
   "cell_type": "markdown",
   "metadata": {},
   "source": [
    "Change created_utc to readble datetime"
   ]
  },
  {
   "cell_type": "code",
   "execution_count": null,
   "metadata": {
    "collapsed": true
   },
   "outputs": [],
   "source": [
    "def to_datetime(df):\n",
    "    return pd.to_datetime(df['created_utc'],unit='s')\n",
    "\n",
    "ltc['datetime'] = to_datetime(ltc)\n",
    "eth['datetime'] = to_datetime(eth)\n",
    "xrp['datetime'] = to_datetime(xrp)"
   ]
  },
  {
   "cell_type": "markdown",
   "metadata": {},
   "source": [
    "Remove 'removed' and 'deleted' comments"
   ]
  },
  {
   "cell_type": "code",
   "execution_count": null,
   "metadata": {
    "collapsed": true
   },
   "outputs": [],
   "source": [
    "ltc = ltc[ltc.body != '[removed]']\n",
    "ltc = ltc[ltc.body != '[deleted]']\n",
    "xrp = xrp[xrp.body != '[removed]']\n",
    "xrp = xrp[xrp.body != '[deleted]']\n",
    "eth = eth[eth.body != '[removed]']\n",
    "eth = eth[eth.body != '[deleted]']"
   ]
  },
  {
   "cell_type": "markdown",
   "metadata": {},
   "source": [
    "Perform VADER sentiment analysis on every sentence; new columns: compound, negative, neutral, positive\n",
    "<br>\n",
    "NOTE: computational extensive process"
   ]
  },
  {
   "cell_type": "code",
   "execution_count": null,
   "metadata": {
    "collapsed": true
   },
   "outputs": [],
   "source": [
    "\n",
    "analyzer = SentimentIntensityAnalyzer()\n",
    "ltc[['compound','neg','neu','pos']] = ltc['body'].apply(lambda body: pd.Series(analyzer.polarity_scores(body)))\n",
    "xrp[['compound','neg','neu','pos']] = xrp['body'].apply(lambda body: pd.Series(analyzer.polarity_scores(body)))\n",
    "eth[['compound','neg','neu','pos']] = eth['body'].apply(lambda body: pd.Series(analyzer.polarity_scores(body)))\n",
    "                                                               "
   ]
  },
  {
   "cell_type": "markdown",
   "metadata": {},
   "source": [
    "grouping the data on datetime (day) simoultaniously calculating mean of sentiment scores + drop nan values\n",
    "\n",
    "resulting in 730 entries for LTC and ETH and 538 days for XRP"
   ]
  },
  {
   "cell_type": "code",
   "execution_count": null,
   "metadata": {
    "collapsed": true
   },
   "outputs": [],
   "source": [
    "\n",
    "def mean_grouping(df):\n",
    "    return df.set_index('datetime').groupby(pd.TimeGrouper('D')).mean().dropna()\n",
    "\n",
    "ltccomment = mean_grouping(ltc)\n",
    "xrpcomment = mean_grouping(xrp)\n",
    "ethcomment = mean_grouping(eth)\n"
   ]
  },
  {
   "cell_type": "markdown",
   "metadata": {},
   "source": [
    "Counting number of comments per day and adding column numcomments"
   ]
  },
  {
   "cell_type": "code",
   "execution_count": null,
   "metadata": {
    "collapsed": true
   },
   "outputs": [],
   "source": [
    "\n",
    "def comment_count(df):\n",
    "    return df.set_index('datetime').resample('D').size()\n",
    "    \n",
    "ltccomment['numcomments'] = comment_count(ltc)\n",
    "xrpcomment['numcomments'] = comment_count(xrp)\n",
    "ethcomment['numcomments'] = comment_count(eth)\n"
   ]
  },
  {
   "cell_type": "markdown",
   "metadata": {},
   "source": [
    "Mean, max, min for sentiment compound and karma score of comments"
   ]
  },
  {
   "cell_type": "code",
   "execution_count": null,
   "metadata": {
    "collapsed": true
   },
   "outputs": [],
   "source": [
    "\n",
    "def min_max_mean(coin, df):\n",
    "    print(\"Minumum compound \", coin,\" :\" ,df['compound'].min())\n",
    "    print(\"Maximum compound \", coin,\" :\" ,df['compound'].max())\n",
    "    print(\"Mean of compound \", coin,\" :\" ,df['compound'].mean())\n",
    "    print(\"\\n\")\n",
    "    \n",
    "min_max_mean('LTC', ltc)\n",
    "min_max_mean('ETH', eth)\n",
    "min_max_mean('XRP', xrp)"
   ]
  },
  {
   "cell_type": "code",
   "execution_count": null,
   "metadata": {
    "collapsed": true
   },
   "outputs": [],
   "source": [
    "def min_max_score(coin, df):\n",
    "    print(\"Minumum score\",coin,\" : \" ,df['score'].min())\n",
    "    print(\"Maximum score\",coin,\" : \" ,df['score'].max())\n",
    "    print(\"\\n\")\n",
    "    \n",
    "min_max_score('LTC', ltc)\n",
    "min_max_score('ETH', eth)\n",
    "min_max_score('XRP', xrp)"
   ]
  },
  {
   "cell_type": "markdown",
   "metadata": {},
   "source": [
    "Saving DF with sentiment as pickle for later analysis"
   ]
  },
  {
   "cell_type": "code",
   "execution_count": null,
   "metadata": {
    "collapsed": true
   },
   "outputs": [],
   "source": [
    "ltccomment.to_pickle('Litecoin2016-17.pkl')\n",
    "ethcomment.to_pickle('Ethereum2016-17.pkl')\n",
    "xrpcomment.to_pickle('Ripple2016-17.pkl')"
   ]
  },
  {
   "cell_type": "markdown",
   "metadata": {},
   "source": [
    "# 2. Price data pre-processing"
   ]
  },
  {
   "cell_type": "markdown",
   "metadata": {},
   "source": [
    "Read in prices.csv"
   ]
  },
  {
   "cell_type": "code",
   "execution_count": null,
   "metadata": {
    "collapsed": true
   },
   "outputs": [],
   "source": [
    "prices = pd.read_csv(\"prices.csv\" , parse_dates= ['date'])"
   ]
  },
  {
   "cell_type": "markdown",
   "metadata": {},
   "source": [
    "Exploration"
   ]
  },
  {
   "cell_type": "code",
   "execution_count": null,
   "metadata": {
    "collapsed": true
   },
   "outputs": [],
   "source": [
    "prices.info()\n",
    "prices[0:100]\n",
    "prices.loc[prices['symbol'] == 'XRP']"
   ]
  },
  {
   "cell_type": "markdown",
   "metadata": {},
   "source": [
    "Creating 3 datasets with date as index (corrosponding to sentiment data)"
   ]
  },
  {
   "cell_type": "code",
   "execution_count": null,
   "metadata": {
    "collapsed": true
   },
   "outputs": [],
   "source": [
    "def date_index(df, coin):\n",
    "    return df[df['symbol'] == coin].set_index('date')\n",
    "\n",
    "pricesLTC = date_index(prices, 'LTC')\n",
    "pricesETH = date_index(prices, 'ETH')\n",
    "pricesXRP = date_index(prices, 'XRP')"
   ]
  },
  {
   "cell_type": "markdown",
   "metadata": {},
   "source": [
    "Filter date only 01-01-2016 to 31-12-2017"
   ]
  },
  {
   "cell_type": "code",
   "execution_count": null,
   "metadata": {
    "collapsed": true
   },
   "outputs": [],
   "source": [
    "def filter_date(df, after, before):\n",
    "    return df.ix[after:before]\n",
    "\n",
    "pricesLTC = filter_date(pricesLTC, '2016-01-01','2017-12-31')\n",
    "pricesETH = filter_date(pricesETH, '2016-01-01','2017-12-31')\n",
    "pricesXRP = filter_date(pricesXRP, '2016-01-01','2017-12-31')"
   ]
  },
  {
   "cell_type": "markdown",
   "metadata": {},
   "source": [
    "Calculate extra variables and add as new columns"
   ]
  },
  {
   "cell_type": "code",
   "execution_count": null,
   "metadata": {
    "collapsed": true
   },
   "outputs": [],
   "source": [
    "def operations(df):\n",
    "    scaler = MinMaxScaler(feature_range=(-1, 1))\n",
    "    df['prices'] = df[['open', 'close','high','low']].mean(axis=1)\n",
    "    df['delta_day'] = df['high'] - df['low']\n",
    "    df['fluctuation'] = 0\n",
    "    df['fluctuation'] = df.delta_day.diff().fillna(0)\n",
    "    df['norm_fluctuation'] = 0\n",
    "    df['norm_fluctuation'] = scaler.fit_transform(df[['fluctuation']])\n",
    "    df['pct_change']= df['prices'].pct_change()\n",
    "    df['log_pct_change'] = np.log(df['prices'].astype('float64')/df['prices'].astype('float64').shift(1))\n",
    "    #df['norm_compound'] = 0\n",
    "    #df['norm_compound'] = scaler.fit_transform(df[['compound']])\n",
    "    \n",
    "operations(pricesLTC)\n",
    "operations(pricesETH)\n",
    "operations(pricesXRP)"
   ]
  },
  {
   "cell_type": "markdown",
   "metadata": {},
   "source": [
    "Save price data to pickle for merging with sentiment data"
   ]
  },
  {
   "cell_type": "code",
   "execution_count": null,
   "metadata": {
    "collapsed": true
   },
   "outputs": [],
   "source": [
    "pricesLTC.to_pickle('pricesLTC2016-17.pkl')\n",
    "pricesXRP.to_pickle('pricesXRP2016-17.pkl')\n",
    "pricesETH.to_pickle('pricesETH2016-17.pkl')"
   ]
  },
  {
   "cell_type": "markdown",
   "metadata": {
    "collapsed": true
   },
   "source": [
    "# 3. Merging, corrolation and visualization"
   ]
  },
  {
   "cell_type": "markdown",
   "metadata": {
    "collapsed": true
   },
   "source": [
    "Import comment data and price data"
   ]
  },
  {
   "cell_type": "code",
   "execution_count": null,
   "metadata": {
    "collapsed": true
   },
   "outputs": [],
   "source": [
    "ltc = pd.read_pickle('Litecoin2016-17.pkl')\n",
    "eth = pd.read_pickle('Ethereum2016-17.pkl')\n",
    "xrp = pd.read_pickle('Ripple2016-17.pkl')\n",
    "\n",
    "\n",
    "priceltc = pd.read_pickle('pricesLTC2016-17.pkl')\n",
    "pricexrp = pd.read_pickle('pricesXRP2016-17.pkl')\n",
    "priceeth = pd.read_pickle('pricesETH2016-17.pkl')"
   ]
  },
  {
   "cell_type": "markdown",
   "metadata": {
    "collapsed": true
   },
   "source": [
    "Merge datasets on index"
   ]
  },
  {
   "cell_type": "code",
   "execution_count": null,
   "metadata": {
    "collapsed": true
   },
   "outputs": [],
   "source": [
    "def merge(leftdf, rightdf):\n",
    "    return pd.merge(leftdf,rightdf, how='inner', left_index=True, right_index=True)\n",
    "    \n",
    "\n",
    "mergeltc = merge(priceltc, ltc)\n",
    "mergeeth = merge(priceeth, eth)\n",
    "mergexrp = merge(pricexrp, xrp)"
   ]
  },
  {
   "cell_type": "markdown",
   "metadata": {},
   "source": [
    "Output the corrolation matrix between variables"
   ]
  },
  {
   "cell_type": "code",
   "execution_count": null,
   "metadata": {
    "collapsed": true
   },
   "outputs": [],
   "source": [
    "def corr_matrix(df):\n",
    "    df = df[['prices','volume','delta_day', 'compound', 'numcomments']]\n",
    "    return df.corr(method='pearson')\n",
    "    \n",
    "corr_matrix(eth)"
   ]
  },
  {
   "cell_type": "markdown",
   "metadata": {},
   "source": [
    "Display top corrolations"
   ]
  },
  {
   "cell_type": "code",
   "execution_count": null,
   "metadata": {
    "collapsed": true
   },
   "outputs": [],
   "source": [
    "def correlation_top(df):\n",
    "    corre = df.corr(method='pearson')\n",
    "    c1 = corre.abs().unstack()\n",
    "    results = c1.sort_values(ascending = False)\n",
    "    print(results[0:150])\n",
    "    \n",
    "correlation_top(xrp)"
   ]
  },
  {
   "cell_type": "code",
   "execution_count": null,
   "metadata": {
    "collapsed": true
   },
   "outputs": [],
   "source": []
  },
  {
   "cell_type": "code",
   "execution_count": null,
   "metadata": {
    "collapsed": true
   },
   "outputs": [],
   "source": []
  },
  {
   "cell_type": "markdown",
   "metadata": {
    "collapsed": true
   },
   "source": [
    "Set size of plot to fixed size 15x9"
   ]
  },
  {
   "cell_type": "code",
   "execution_count": 13,
   "metadata": {
    "collapsed": true
   },
   "outputs": [],
   "source": [
    "fig_size = plt.rcParams[\"figure.figsize\"]\n",
    "fig_size[0] = 15\n",
    "fig_size[1] = 9\n",
    "plt.rcParams[\"figure.figsize\"] = fig_size"
   ]
  },
  {
   "cell_type": "code",
   "execution_count": null,
   "metadata": {
    "collapsed": true
   },
   "outputs": [],
   "source": []
  },
  {
   "cell_type": "markdown",
   "metadata": {
    "collapsed": true
   },
   "source": [
    "# 4. LSTM prediction"
   ]
  },
  {
   "cell_type": "markdown",
   "metadata": {
    "collapsed": true
   },
   "source": [
    "Load the datasets for analysis"
   ]
  },
  {
   "cell_type": "code",
   "execution_count": 4,
   "metadata": {
    "collapsed": true
   },
   "outputs": [],
   "source": [
    "ltc = pd.read_pickle('mergeLTC2016-17.pkl')\n",
    "eth = pd.read_pickle('mergeETH2016-17.pkl')\n",
    "xrp = pd.read_pickle('mergeXRP2016-17.pkl')"
   ]
  },
  {
   "cell_type": "markdown",
   "metadata": {
    "collapsed": true
   },
   "source": [
    "Steps for choosing the analysis:\n",
    "<br>\n",
    "- Copy data of cryptocurrency to temporary df\n",
    "- Specify the input variables as string in function call\n",
    "<br>\n",
    "eg: prices = 1 lag day prices, compound = 1 lag day compound\n",
    "<br>\n",
    "All variables:\n",
    "df = choose_crypto(ltc ,'prices','compound', 'numcomments')"
   ]
  },
  {
   "cell_type": "code",
   "execution_count": 5,
   "metadata": {
    "collapsed": true
   },
   "outputs": [],
   "source": [
    "\n",
    "def choose_crypto(crypto, *vars):\n",
    "    df = crypto\n",
    "    if len(vars) == 4:\n",
    "        df = df[[vars[0],vars[1],vars[2],vars[3]]]\n",
    "    elif len(vars) == 3:\n",
    "        df = df[[vars[0],vars[1],vars[2]]]\n",
    "    elif len(vars) == 2:\n",
    "        df = df[[vars[0],vars[1]]]\n",
    "    else:\n",
    "        df = df[[vars[0]]]\n",
    "    return df\n",
    "\n",
    "df = choose_crypto(eth, 'prices' )"
   ]
  },
  {
   "cell_type": "markdown",
   "metadata": {
    "collapsed": true
   },
   "source": [
    "- Load dataset as values\n",
    "- Ensure all data is float\n",
    "- Normalize features using MinMaxScaler"
   ]
  },
  {
   "cell_type": "code",
   "execution_count": 6,
   "metadata": {
    "collapsed": true
   },
   "outputs": [],
   "source": [
    "values = df.values\n",
    "values = values.astype('float32')\n",
    "scaler = MinMaxScaler(feature_range=(0, 1))\n",
    "scaled = scaler.fit_transform(values)"
   ]
  },
  {
   "cell_type": "markdown",
   "metadata": {
    "collapsed": true
   },
   "source": [
    "- Specify the number of lag days and features above function\n",
    "<br>\n",
    "INCORRECT n_features AND n_days WILL RESULT IN ERROR"
   ]
  },
  {
   "cell_type": "code",
   "execution_count": 7,
   "metadata": {
    "collapsed": false
   },
   "outputs": [
    {
     "name": "stdout",
     "output_type": "stream",
     "text": [
      "(730, 2)\n",
      "   var1(t-1)   var1(t)\n",
      "1   0.000000  0.000007\n",
      "2   0.000007  0.000021\n",
      "3   0.000021  0.000020\n",
      "4   0.000020  0.000016\n",
      "5   0.000016  0.000009 \n",
      "\n"
     ]
    }
   ],
   "source": [
    "\n",
    "n_days = 1\n",
    "n_features = 1\n",
    "\n",
    "# convert series to supervised learning by shifting t-1, t-2, t-3 depending on lag of days\n",
    "def series_to_supervised(data, n_in=1, n_out=1, dropnan=True):\n",
    "    n_vars = 1 if type(data) is list else data.shape[1]\n",
    "    df = DataFrame(data)\n",
    "    cols, names = list(), list()\n",
    "    #input sequence (t-n, ... t-1)\n",
    "    for i in range(n_in, 0, -1):\n",
    "        cols.append(df.shift(i))\n",
    "        names += [('var%d(t-%d)' % (j+1, i)) for j in range(n_vars)]\n",
    "    #forecast sequence (t, t+1, ... t+n)\n",
    "    for i in range(0, n_out):\n",
    "        cols.append(df.shift(-i))\n",
    "        if i == 0:\n",
    "            names += [('var%d(t)' % (j+1)) for j in range(n_vars)]\n",
    "        else:\n",
    "            names += [('var%d(t+%d)' % (j+1, i)) for j in range(n_vars)]\n",
    "    \n",
    "    agg = concat(cols, axis=1)\n",
    "    agg.columns = names\n",
    "    # drop rows with NaN values\n",
    "    if dropnan:\n",
    "        agg.dropna(inplace=True)\n",
    "    return agg\n",
    "\n",
    "\n",
    "# frame as supervised learning\n",
    "reframed = series_to_supervised(scaled, n_days,1)\n",
    "\n",
    "print(reframed.shape)\n",
    "print(reframed.head(), '\\n')\n",
    "\n",
    "if df.shape[1] != n_features:\n",
    "    print('ERROR: n_features must match input variables')"
   ]
  },
  {
   "cell_type": "markdown",
   "metadata": {
    "collapsed": true
   },
   "source": [
    "- Split into train and test sets\n",
    "<br>\n",
    "- Reshape input to be 3D [samples, timesteps, features]"
   ]
  },
  {
   "cell_type": "code",
   "execution_count": 8,
   "metadata": {
    "collapsed": false
   },
   "outputs": [
    {
     "name": "stdout",
     "output_type": "stream",
     "text": [
      "(584, 1) 584 (584,)\n",
      "(584, 1, 1) (584,) (146, 1, 1) (146,)\n"
     ]
    },
    {
     "name": "stderr",
     "output_type": "stream",
     "text": [
      "/Users/gerlofbremmer/anaconda/lib/python3.5/site-packages/ipykernel/__main__.py:3: VisibleDeprecationWarning: using a non-integer number instead of an integer will result in an error in the future\n",
      "  app.launch_new_instance()\n",
      "/Users/gerlofbremmer/anaconda/lib/python3.5/site-packages/ipykernel/__main__.py:4: VisibleDeprecationWarning: using a non-integer number instead of an integer will result in an error in the future\n"
     ]
    }
   ],
   "source": [
    "values = reframed.values\n",
    "n_train_days = 0.8*len(reframed)\n",
    "train = values[:n_train_days, :]\n",
    "test = values[n_train_days:, :]\n",
    "\n",
    "#split into input and outputs\n",
    "n_obs = n_days * n_features\n",
    "train_X, train_y = train[:, :n_obs], train[:, -n_features]\n",
    "test_X, test_y = test[:, :n_obs], test[:, -n_features]\n",
    "print(train_X.shape, len(train_X), train_y.shape)\n",
    "\n",
    "train_X = train_X.reshape((train_X.shape[0], n_days, n_features))\n",
    "test_X = test_X.reshape((test_X.shape[0], n_days, n_features))\n",
    "print(train_X.shape, train_y.shape, test_X.shape, test_y.shape)\n",
    "\n",
    "if df.shape[1] != n_features:\n",
    "    print('ERROR: n_features must match input variables')"
   ]
  },
  {
   "cell_type": "markdown",
   "metadata": {
    "collapsed": true
   },
   "source": [
    "Compile the LSTM model"
   ]
  },
  {
   "cell_type": "code",
   "execution_count": 9,
   "metadata": {
    "collapsed": false
   },
   "outputs": [
    {
     "name": "stdout",
     "output_type": "stream",
     "text": [
      "_________________________________________________________________\n",
      "Layer (type)                 Output Shape              Param #   \n",
      "=================================================================\n",
      "lstm_1 (LSTM)                (None, 20)                1760      \n",
      "_________________________________________________________________\n",
      "dense_1 (Dense)              (None, 1)                 21        \n",
      "=================================================================\n",
      "Total params: 1,781\n",
      "Trainable params: 1,781\n",
      "Non-trainable params: 0\n",
      "_________________________________________________________________\n"
     ]
    }
   ],
   "source": [
    "model = Sequential()\n",
    "model.add(LSTM(20, input_shape=(train_X.shape[1], train_X.shape[2])))\n",
    "model.add(Dense(1))\n",
    "model.compile(loss='mae', optimizer='adam')\n",
    "model.summary()\n"
   ]
  },
  {
   "cell_type": "markdown",
   "metadata": {
    "collapsed": true
   },
   "source": [
    "Fit the model and plot the losses"
   ]
  },
  {
   "cell_type": "code",
   "execution_count": 10,
   "metadata": {
    "collapsed": false
   },
   "outputs": [
    {
     "name": "stdout",
     "output_type": "stream",
     "text": [
      "Train on 584 samples, validate on 146 samples\n",
      "Epoch 1/130\n",
      "584/584 [==============================] - 0s 636us/step - loss: 0.0506 - val_loss: 0.4447\n",
      "Epoch 2/130\n",
      "584/584 [==============================] - 0s 172us/step - loss: 0.0519 - val_loss: 0.4380\n",
      "Epoch 3/130\n",
      "584/584 [==============================] - 0s 171us/step - loss: 0.0520 - val_loss: 0.4376\n",
      "Epoch 4/130\n",
      "584/584 [==============================] - 0s 169us/step - loss: 0.0497 - val_loss: 0.4387\n",
      "Epoch 5/130\n",
      "584/584 [==============================] - 0s 178us/step - loss: 0.0475 - val_loss: 0.4337\n",
      "Epoch 6/130\n",
      "584/584 [==============================] - 0s 169us/step - loss: 0.0469 - val_loss: 0.4283\n",
      "Epoch 7/130\n",
      "584/584 [==============================] - 0s 177us/step - loss: 0.0467 - val_loss: 0.4245\n",
      "Epoch 8/130\n",
      "584/584 [==============================] - 0s 163us/step - loss: 0.0461 - val_loss: 0.4203\n",
      "Epoch 9/130\n",
      "584/584 [==============================] - 0s 165us/step - loss: 0.0455 - val_loss: 0.4155\n",
      "Epoch 10/130\n",
      "584/584 [==============================] - 0s 167us/step - loss: 0.0451 - val_loss: 0.4109\n",
      "Epoch 11/130\n",
      "584/584 [==============================] - 0s 170us/step - loss: 0.0446 - val_loss: 0.4064\n",
      "Epoch 12/130\n",
      "584/584 [==============================] - 0s 174us/step - loss: 0.0441 - val_loss: 0.4017\n",
      "Epoch 13/130\n",
      "584/584 [==============================] - 0s 189us/step - loss: 0.0436 - val_loss: 0.3969\n",
      "Epoch 14/130\n",
      "584/584 [==============================] - 0s 189us/step - loss: 0.0431 - val_loss: 0.3921\n",
      "Epoch 15/130\n",
      "584/584 [==============================] - 0s 170us/step - loss: 0.0426 - val_loss: 0.3871\n",
      "Epoch 16/130\n",
      "584/584 [==============================] - 0s 165us/step - loss: 0.0421 - val_loss: 0.3820\n",
      "Epoch 17/130\n",
      "584/584 [==============================] - 0s 166us/step - loss: 0.0415 - val_loss: 0.3768\n",
      "Epoch 18/130\n",
      "584/584 [==============================] - 0s 170us/step - loss: 0.0410 - val_loss: 0.3715\n",
      "Epoch 19/130\n",
      "584/584 [==============================] - 0s 178us/step - loss: 0.0404 - val_loss: 0.3660\n",
      "Epoch 20/130\n",
      "584/584 [==============================] - 0s 171us/step - loss: 0.0398 - val_loss: 0.3603\n",
      "Epoch 21/130\n",
      "584/584 [==============================] - 0s 171us/step - loss: 0.0392 - val_loss: 0.3545\n",
      "Epoch 22/130\n",
      "584/584 [==============================] - 0s 189us/step - loss: 0.0386 - val_loss: 0.3485\n",
      "Epoch 23/130\n",
      "584/584 [==============================] - 0s 163us/step - loss: 0.0380 - val_loss: 0.3423\n",
      "Epoch 24/130\n",
      "584/584 [==============================] - 0s 168us/step - loss: 0.0373 - val_loss: 0.3359\n",
      "Epoch 25/130\n",
      "584/584 [==============================] - 0s 166us/step - loss: 0.0366 - val_loss: 0.3292\n",
      "Epoch 26/130\n",
      "584/584 [==============================] - 0s 168us/step - loss: 0.0359 - val_loss: 0.3224\n",
      "Epoch 27/130\n",
      "584/584 [==============================] - 0s 166us/step - loss: 0.0352 - val_loss: 0.3153\n",
      "Epoch 28/130\n",
      "584/584 [==============================] - 0s 179us/step - loss: 0.0344 - val_loss: 0.3079\n",
      "Epoch 29/130\n",
      "584/584 [==============================] - 0s 173us/step - loss: 0.0337 - val_loss: 0.3003\n",
      "Epoch 30/130\n",
      "584/584 [==============================] - 0s 191us/step - loss: 0.0329 - val_loss: 0.2924\n",
      "Epoch 31/130\n",
      "584/584 [==============================] - 0s 185us/step - loss: 0.0320 - val_loss: 0.2843\n",
      "Epoch 32/130\n",
      "584/584 [==============================] - 0s 172us/step - loss: 0.0312 - val_loss: 0.2758\n",
      "Epoch 33/130\n",
      "584/584 [==============================] - 0s 158us/step - loss: 0.0303 - val_loss: 0.2670\n",
      "Epoch 34/130\n",
      "584/584 [==============================] - 0s 169us/step - loss: 0.0294 - val_loss: 0.2580\n",
      "Epoch 35/130\n",
      "584/584 [==============================] - 0s 184us/step - loss: 0.0284 - val_loss: 0.2485\n",
      "Epoch 36/130\n",
      "584/584 [==============================] - 0s 183us/step - loss: 0.0274 - val_loss: 0.2388\n",
      "Epoch 37/130\n",
      "584/584 [==============================] - 0s 164us/step - loss: 0.0264 - val_loss: 0.2286\n",
      "Epoch 38/130\n",
      "584/584 [==============================] - 0s 166us/step - loss: 0.0254 - val_loss: 0.2185\n",
      "Epoch 39/130\n",
      "584/584 [==============================] - 0s 166us/step - loss: 0.0242 - val_loss: 0.2071\n",
      "Epoch 40/130\n",
      "584/584 [==============================] - 0s 167us/step - loss: 0.0234 - val_loss: 0.1971\n",
      "Epoch 41/130\n",
      "584/584 [==============================] - 0s 168us/step - loss: 0.0217 - val_loss: 0.1838\n",
      "Epoch 42/130\n",
      "584/584 [==============================] - 0s 167us/step - loss: 0.0213 - val_loss: 0.1742\n",
      "Epoch 43/130\n",
      "584/584 [==============================] - 0s 169us/step - loss: 0.0190 - val_loss: 0.1579\n",
      "Epoch 44/130\n",
      "584/584 [==============================] - 0s 179us/step - loss: 0.0197 - val_loss: 0.1490\n",
      "Epoch 45/130\n",
      "584/584 [==============================] - 0s 190us/step - loss: 0.0164 - val_loss: 0.1315\n",
      "Epoch 46/130\n",
      "584/584 [==============================] - 0s 179us/step - loss: 0.0173 - val_loss: 0.1216\n",
      "Epoch 47/130\n",
      "584/584 [==============================] - 0s 166us/step - loss: 0.0138 - val_loss: 0.1050\n",
      "Epoch 48/130\n",
      "584/584 [==============================] - 0s 162us/step - loss: 0.0141 - val_loss: 0.0944\n",
      "Epoch 49/130\n",
      "584/584 [==============================] - 0s 171us/step - loss: 0.0107 - val_loss: 0.0747\n",
      "Epoch 50/130\n",
      "584/584 [==============================] - 0s 169us/step - loss: 0.0117 - val_loss: 0.0643\n",
      "Epoch 51/130\n",
      "584/584 [==============================] - 0s 167us/step - loss: 0.0076 - val_loss: 0.0454\n",
      "Epoch 52/130\n",
      "584/584 [==============================] - 0s 171us/step - loss: 0.0082 - val_loss: 0.0358\n",
      "Epoch 53/130\n",
      "584/584 [==============================] - 0s 183us/step - loss: 0.0048 - val_loss: 0.0230\n",
      "Epoch 54/130\n",
      "584/584 [==============================] - 0s 194us/step - loss: 0.0051 - val_loss: 0.0203\n",
      "Epoch 55/130\n",
      "584/584 [==============================] - 0s 169us/step - loss: 0.0036 - val_loss: 0.0210\n",
      "Epoch 56/130\n",
      "584/584 [==============================] - 0s 164us/step - loss: 0.0032 - val_loss: 0.0277\n",
      "Epoch 57/130\n",
      "584/584 [==============================] - 0s 172us/step - loss: 0.0036 - val_loss: 0.0303\n",
      "Epoch 58/130\n",
      "584/584 [==============================] - 0s 168us/step - loss: 0.0043 - val_loss: 0.0264\n",
      "Epoch 59/130\n",
      "584/584 [==============================] - 0s 169us/step - loss: 0.0036 - val_loss: 0.0268\n",
      "Epoch 60/130\n",
      "584/584 [==============================] - 0s 182us/step - loss: 0.0034 - val_loss: 0.0255\n",
      "Epoch 61/130\n",
      "584/584 [==============================] - 0s 201us/step - loss: 0.0032 - val_loss: 0.0250\n",
      "Epoch 62/130\n",
      "584/584 [==============================] - 0s 183us/step - loss: 0.0032 - val_loss: 0.0263\n",
      "Epoch 63/130\n",
      "584/584 [==============================] - 0s 180us/step - loss: 0.0037 - val_loss: 0.0254\n",
      "Epoch 64/130\n",
      "584/584 [==============================] - 0s 167us/step - loss: 0.0038 - val_loss: 0.0250\n",
      "Epoch 65/130\n",
      "584/584 [==============================] - 0s 167us/step - loss: 0.0033 - val_loss: 0.0270\n",
      "Epoch 66/130\n",
      "584/584 [==============================] - 0s 197us/step - loss: 0.0035 - val_loss: 0.0268\n",
      "Epoch 67/130\n",
      "584/584 [==============================] - 0s 195us/step - loss: 0.0041 - val_loss: 0.0240\n",
      "Epoch 68/130\n",
      "584/584 [==============================] - 0s 187us/step - loss: 0.0032 - val_loss: 0.0252\n",
      "Epoch 69/130\n",
      "584/584 [==============================] - 0s 193us/step - loss: 0.0032 - val_loss: 0.0250\n",
      "Epoch 70/130\n",
      "584/584 [==============================] - 0s 160us/step - loss: 0.0034 - val_loss: 0.0248\n",
      "Epoch 71/130\n",
      "584/584 [==============================] - 0s 171us/step - loss: 0.0047 - val_loss: 0.0211\n",
      "Epoch 72/130\n",
      "584/584 [==============================] - 0s 190us/step - loss: 0.0039 - val_loss: 0.0254\n",
      "Epoch 73/130\n",
      "584/584 [==============================] - 0s 169us/step - loss: 0.0035 - val_loss: 0.0269\n",
      "Epoch 74/130\n",
      "584/584 [==============================] - 0s 171us/step - loss: 0.0049 - val_loss: 0.0224\n",
      "Epoch 75/130\n",
      "584/584 [==============================] - 0s 194us/step - loss: 0.0037 - val_loss: 0.0257\n",
      "Epoch 76/130\n",
      "584/584 [==============================] - 0s 186us/step - loss: 0.0033 - val_loss: 0.0262\n",
      "Epoch 77/130\n",
      "584/584 [==============================] - 0s 183us/step - loss: 0.0040 - val_loss: 0.0236\n",
      "Epoch 78/130\n",
      "584/584 [==============================] - 0s 181us/step - loss: 0.0032 - val_loss: 0.0250\n",
      "Epoch 79/130\n",
      "584/584 [==============================] - 0s 170us/step - loss: 0.0033 - val_loss: 0.0254\n",
      "Epoch 80/130\n",
      "584/584 [==============================] - 0s 201us/step - loss: 0.0043 - val_loss: 0.0220\n",
      "Epoch 81/130\n",
      "584/584 [==============================] - 0s 204us/step - loss: 0.0036 - val_loss: 0.0243\n",
      "Epoch 82/130\n",
      "584/584 [==============================] - 0s 175us/step - loss: 0.0032 - val_loss: 0.0249\n",
      "Epoch 83/130\n",
      "584/584 [==============================] - 0s 172us/step - loss: 0.0032 - val_loss: 0.0241\n",
      "Epoch 84/130\n",
      "584/584 [==============================] - 0s 174us/step - loss: 0.0032 - val_loss: 0.0239\n",
      "Epoch 85/130\n",
      "584/584 [==============================] - 0s 161us/step - loss: 0.0033 - val_loss: 0.0238\n",
      "Epoch 86/130\n",
      "584/584 [==============================] - 0s 165us/step - loss: 0.0046 - val_loss: 0.0203\n",
      "Epoch 87/130\n",
      "584/584 [==============================] - 0s 164us/step - loss: 0.0038 - val_loss: 0.0244\n",
      "Epoch 88/130\n",
      "584/584 [==============================] - 0s 169us/step - loss: 0.0034 - val_loss: 0.0257\n",
      "Epoch 89/130\n",
      "584/584 [==============================] - 0s 167us/step - loss: 0.0047 - val_loss: 0.0215\n",
      "Epoch 90/130\n",
      "584/584 [==============================] - 0s 167us/step - loss: 0.0037 - val_loss: 0.0248\n",
      "Epoch 91/130\n",
      "584/584 [==============================] - 0s 174us/step - loss: 0.0033 - val_loss: 0.0255\n",
      "Epoch 92/130\n",
      "584/584 [==============================] - 0s 167us/step - loss: 0.0041 - val_loss: 0.0224\n",
      "Epoch 93/130\n",
      "584/584 [==============================] - 0s 167us/step - loss: 0.0032 - val_loss: 0.0238\n",
      "Epoch 94/130\n",
      "584/584 [==============================] - 0s 169us/step - loss: 0.0031 - val_loss: 0.0247\n",
      "Epoch 95/130\n",
      "584/584 [==============================] - 0s 174us/step - loss: 0.0032 - val_loss: 0.0247\n",
      "Epoch 96/130\n",
      "584/584 [==============================] - 0s 177us/step - loss: 0.0041 - val_loss: 0.0219\n",
      "Epoch 97/130\n",
      "584/584 [==============================] - 0s 196us/step - loss: 0.0032 - val_loss: 0.0238\n",
      "Epoch 98/130\n",
      "584/584 [==============================] - 0s 197us/step - loss: 0.0031 - val_loss: 0.0237\n",
      "Epoch 99/130\n",
      "584/584 [==============================] - 0s 170us/step - loss: 0.0031 - val_loss: 0.0230\n",
      "Epoch 100/130\n",
      "584/584 [==============================] - 0s 161us/step - loss: 0.0033 - val_loss: 0.0231\n",
      "Epoch 101/130\n",
      "584/584 [==============================] - 0s 167us/step - loss: 0.0042 - val_loss: 0.0205\n",
      "Epoch 102/130\n",
      "584/584 [==============================] - 0s 167us/step - loss: 0.0036 - val_loss: 0.0231\n",
      "Epoch 103/130\n",
      "584/584 [==============================] - 0s 164us/step - loss: 0.0032 - val_loss: 0.0230\n",
      "Epoch 104/130\n",
      "584/584 [==============================] - 0s 166us/step - loss: 0.0031 - val_loss: 0.0230\n",
      "Epoch 105/130\n",
      "584/584 [==============================] - 0s 165us/step - loss: 0.0031 - val_loss: 0.0223\n",
      "Epoch 106/130\n",
      "584/584 [==============================] - 0s 168us/step - loss: 0.0033 - val_loss: 0.0227\n",
      "Epoch 107/130\n",
      "584/584 [==============================] - 0s 171us/step - loss: 0.0043 - val_loss: 0.0200\n",
      "Epoch 108/130\n",
      "584/584 [==============================] - 0s 169us/step - loss: 0.0037 - val_loss: 0.0232\n",
      "Epoch 109/130\n",
      "584/584 [==============================] - 0s 172us/step - loss: 0.0032 - val_loss: 0.0235\n",
      "Epoch 110/130\n",
      "584/584 [==============================] - 0s 165us/step - loss: 0.0032 - val_loss: 0.0226\n",
      "Epoch 111/130\n",
      "584/584 [==============================] - 0s 166us/step - loss: 0.0035 - val_loss: 0.0216\n",
      "Epoch 112/130\n",
      "584/584 [==============================] - 0s 167us/step - loss: 0.0041 - val_loss: 0.0208\n",
      "Epoch 113/130\n",
      "584/584 [==============================] - 0s 167us/step - loss: 0.0038 - val_loss: 0.0250\n",
      "Epoch 114/130\n",
      "584/584 [==============================] - 0s 166us/step - loss: 0.0033 - val_loss: 0.0253\n",
      "Epoch 115/130\n",
      "584/584 [==============================] - 0s 166us/step - loss: 0.0035 - val_loss: 0.0236\n",
      "Epoch 116/130\n",
      "584/584 [==============================] - 0s 162us/step - loss: 0.0038 - val_loss: 0.0210\n",
      "Epoch 117/130\n",
      "584/584 [==============================] - 0s 170us/step - loss: 0.0031 - val_loss: 0.0223\n",
      "Epoch 118/130\n",
      "584/584 [==============================] - 0s 167us/step - loss: 0.0032 - val_loss: 0.0226\n",
      "Epoch 119/130\n",
      "584/584 [==============================] - 0s 167us/step - loss: 0.0041 - val_loss: 0.0198\n",
      "Epoch 120/130\n",
      "584/584 [==============================] - 0s 163us/step - loss: 0.0035 - val_loss: 0.0219\n",
      "Epoch 121/130\n",
      "584/584 [==============================] - 0s 159us/step - loss: 0.0033 - val_loss: 0.0223\n",
      "Epoch 122/130\n",
      "584/584 [==============================] - 0s 162us/step - loss: 0.0033 - val_loss: 0.0214\n",
      "Epoch 123/130\n",
      "584/584 [==============================] - 0s 170us/step - loss: 0.0031 - val_loss: 0.0214\n",
      "Epoch 124/130\n",
      "584/584 [==============================] - 0s 167us/step - loss: 0.0031 - val_loss: 0.0217\n",
      "Epoch 125/130\n",
      "584/584 [==============================] - 0s 168us/step - loss: 0.0031 - val_loss: 0.0221\n",
      "Epoch 126/130\n",
      "584/584 [==============================] - 0s 166us/step - loss: 0.0033 - val_loss: 0.0217\n",
      "Epoch 127/130\n",
      "584/584 [==============================] - 0s 164us/step - loss: 0.0043 - val_loss: 0.0195\n",
      "Epoch 128/130\n",
      "584/584 [==============================] - 0s 172us/step - loss: 0.0038 - val_loss: 0.0237\n",
      "Epoch 129/130\n",
      "584/584 [==============================] - 0s 165us/step - loss: 0.0033 - val_loss: 0.0242\n",
      "Epoch 130/130\n",
      "584/584 [==============================] - 0s 167us/step - loss: 0.0040 - val_loss: 0.0210\n"
     ]
    },
    {
     "data": {
      "image/png": "[encoded data removed]",
      "text/plain": [
       "<matplotlib.figure.Figure at 0x1a20396da0>"
      ]
     },
     "metadata": {},
     "output_type": "display_data"
    }
   ],
   "source": [
    "history = model.fit(train_X, train_y, epochs=130, batch_size=72, validation_data=(test_X, test_y), verbose=1, shuffle=False)\n",
    "pyplot.plot(history.history['loss'], label='train')\n",
    "pyplot.plot(history.history['val_loss'], label='test')\n",
    "pyplot.legend()\n",
    "pyplot.show()"
   ]
  },
  {
   "cell_type": "markdown",
   "metadata": {
    "collapsed": true
   },
   "source": [
    "Prediction of the model.\n",
    "<br>\n",
    "Following steps are taken:\n",
    "<br>\n",
    "- Prediction\n",
    "- Invert scaling for forecast\n",
    "- Invert scaling for actual\n",
    "- Calculate RMSE\n",
    "- Prediction on train\n",
    "- Invert scaling for train forecast\n",
    "- Invert scaling for train actual\n",
    "- Calculate train RMSE"
   ]
  },
  {
   "cell_type": "code",
   "execution_count": 11,
   "metadata": {
    "collapsed": false
   },
   "outputs": [
    {
     "name": "stdout",
     "output_type": "stream",
     "text": [
      "Train RMSE (Root Mean Squared Error): 6.700\n",
      "Test RMSE (Root Mean Squared Error): 29.071\n",
      "\n",
      "Train MAE (Mean Absolute Error): 2.750\n",
      "Test MAE (Mean Absolute Error): 17.411\n"
     ]
    }
   ],
   "source": [
    "# make a prediction with model\n",
    "yhat = model.predict(test_X)\n",
    "test_X = test_X.reshape((test_X.shape[0], n_days*n_features))\n",
    "# invert scaling for forecast\n",
    "inv_yhat = concatenate((yhat, test_X[:, -(n_features-1):]), axis=1)\n",
    "inv_yhat = scaler.inverse_transform(inv_yhat)\n",
    "inv_yhat = inv_yhat[:,0]\n",
    "# invert scaling for actual\n",
    "test_y = test_y.reshape((len(test_y), 1))\n",
    "inv_y = concatenate((test_y, test_X[:, -(n_features-1):]), axis=1)\n",
    "inv_y = scaler.inverse_transform(inv_y)\n",
    "inv_y = inv_y[:,0]\n",
    "# calculate RMSE\n",
    "\n",
    "\n",
    "# make a prediction with model for train\n",
    "trainyhat = model.predict(train_X)\n",
    "train_X = train_X.reshape((train_X.shape[0], n_days*n_features))\n",
    "# invert scaling for forecast\n",
    "traininv_yhat = concatenate((trainyhat, train_X[:, -(n_features-1):]), axis=1)\n",
    "traininv_yhat = scaler.inverse_transform(traininv_yhat)\n",
    "traininv_yhat = traininv_yhat[:,0]\n",
    "# invert scaling for actual\n",
    "train_y = train_y.reshape((len(train_y), 1))\n",
    "traininv_y = concatenate((train_y, train_X[:, -(n_features-1):]), axis=1)\n",
    "traininv_y = scaler.inverse_transform(traininv_y)\n",
    "traininv_y = traininv_y[:,0]\n",
    "\n",
    "\n",
    "\n",
    "trainrmse = sqrt(mean_squared_error(traininv_y, traininv_yhat))\n",
    "testrmse = sqrt(mean_squared_error(inv_y, inv_yhat))\n",
    "\n",
    "print('Train RMSE (Root Mean Squared Error): %.3f' % trainrmse)\n",
    "print('Test RMSE (Root Mean Squared Error): %.3f' % testrmse)\n",
    "print('')\n",
    "\n",
    "testmae = mean_absolute_error(inv_y, inv_yhat)\n",
    "trainmae = mean_absolute_error(traininv_y, traininv_yhat)\n",
    "\n",
    "print('Train MAE (Mean Absolute Error): %.3f' % trainmae)\n",
    "print('Test MAE (Mean Absolute Error): %.3f' % testmae)"
   ]
  },
  {
   "cell_type": "markdown",
   "metadata": {
    "collapsed": true
   },
   "source": [
    "Plot predicted versus real values"
   ]
  },
  {
   "cell_type": "code",
   "execution_count": 14,
   "metadata": {
    "collapsed": false
   },
   "outputs": [
    {
     "data": {
      "image/png": "[encoded data removed]",
      "text/plain": [
       "<matplotlib.figure.Figure at 0x1a212b8b38>"
      ]
     },
     "metadata": {},
     "output_type": "display_data"
    }
   ],
   "source": [
    "pyplot.plot(inv_yhat, label='predict')\n",
    "pyplot.plot(inv_y, label='actual', alpha=0.5)\n",
    "pyplot.legend()\n",
    "pyplot.show()"
   ]
  },
  {
   "cell_type": "markdown",
   "metadata": {
    "collapsed": true
   },
   "source": [
    "Create dataframe whith predicted, true and percentge difference between predicted and true"
   ]
  },
  {
   "cell_type": "code",
   "execution_count": 15,
   "metadata": {
    "collapsed": false
   },
   "outputs": [
    {
     "name": "stdout",
     "output_type": "stream",
     "text": [
      "           pred        real  percentage change  pred_change  real_change\n",
      "0    268.427460  282.894989          -5.114099     0.000000     0.000000\n",
      "1    287.828491  297.267487          -3.175253    19.401031    14.372498\n",
      "2    303.284210  297.342499           1.998272    15.455719     0.075012\n",
      "3    303.365021  301.767487           0.529392     0.080811     4.424988\n",
      "4    308.136169  311.192505          -0.982137     4.771149     9.425018\n",
      "5    318.318024  302.140015           5.354474    10.181854    -9.052490\n",
      "6    308.538147  300.337494           2.730479    -9.779877    -1.802521\n",
      "7    306.593689  292.377502           4.862271    -1.944458    -7.959991\n",
      "8    298.018524  295.220001           0.947945    -8.575165     2.842499\n",
      "9    301.078491  303.887512          -0.924362     3.059967     8.667511\n",
      "10   310.424194  299.437500           3.669111     9.345703    -4.450012\n",
      "11   305.623230  295.375000           3.469566    -4.800964    -4.062500\n",
      "12   301.245453  297.769989           1.167164    -4.377777     2.394989\n",
      "13   303.825684  316.587494          -4.031053     2.580231    18.817505\n",
      "14   324.157745  315.279999           2.815829    20.332062    -1.307495\n",
      "15   322.741699  317.885010           1.527813    -1.416046     2.605011\n",
      "16   325.563477  322.024994           1.098822     2.821777     4.139984\n",
      "17   330.051910  330.057495          -0.001692     4.488434     8.032501\n",
      "18   338.774139  332.195007           1.980503     8.722229     2.137512\n",
      "19   341.098175  341.125000          -0.007864     2.324036     8.929993\n",
      "20   350.820709  347.062500           1.082862     9.722534     5.937500\n",
      "21   357.296814  360.045013          -0.763293     6.476105    12.982513\n",
      "22   371.488525  374.670013          -0.849144    14.191711    14.625000\n",
      "23   387.525604  380.992493           1.714761    16.037079     6.322479\n",
      "24   394.474243  386.179993           2.147768     6.948639     5.187500\n",
      "25   400.182343  363.562500          10.072502     5.708099   -22.617493\n",
      "26   375.340942  349.107513           7.514427   -24.841400   -14.454987\n",
      "27   359.529480  317.342499          13.293833   -15.811462   -31.765015\n",
      "28   324.975708  299.355011           8.558633   -34.553772   -17.987488\n",
      "29   305.534271  324.072510          -5.720398   -19.441437    24.717499\n",
      "..          ...         ...                ...          ...          ...\n",
      "116  474.393829  465.797485           1.845511    18.806488    12.630005\n",
      "117  488.478210  466.052490           4.811844    14.084381     0.255005\n",
      "118  488.762817  466.085022           4.865592     0.284607     0.032532\n",
      "119  488.799103  466.197479           4.848079     0.036285     0.112457\n",
      "120  488.924683  443.527496          10.235484     0.125580   -22.669983\n",
      "121  463.661713  429.147522           8.042500   -25.262970   -14.379974\n",
      "122  447.683502  444.862488           0.634132   -15.978210    15.714966\n",
      "123  465.147064  472.809998          -1.620721    17.463562    27.947510\n",
      "124  496.309113  454.202515           9.270446    31.162048   -18.607483\n",
      "125  475.547119  477.892517          -0.490779   -20.761993    23.690002\n",
      "126  501.989563  583.882507         -14.025587    26.442444   105.989990\n",
      "127  621.158569  673.367493          -7.753407   119.169006    89.484985\n",
      "128  722.370361  703.630005           2.663382   101.211792    30.262512\n",
      "129  756.622437  674.755005          12.132912    34.252075   -28.875000\n",
      "130  723.940918  695.392517           4.105365   -32.681519    20.637512\n",
      "131  747.300110  712.072510           4.947193    23.359192    16.679993\n",
      "132  766.175232  752.382507           1.833206    18.875122    40.309998\n",
      "133  811.753418  822.000000          -1.246543    45.578186    69.617493\n",
      "134  890.247803  811.917480           9.647572    78.494385   -10.082520\n",
      "135  878.902893  828.632568           6.066660   -11.344910    16.715088\n",
      "136  897.705444  717.234985          25.161970    18.802551  -111.397583\n",
      "137  772.015747  711.082520           8.569079  -125.689697    -6.152466\n",
      "138  765.055176  688.152527          11.175233    -6.960571   -22.929993\n",
      "139  739.105774  736.522522           0.350736   -25.949402    48.369995\n",
      "140  793.828613  771.232483           2.929873    54.722839    34.709961\n",
      "141  833.040466  766.367493           8.699870    39.211853    -4.864990\n",
      "142  827.548462  740.934998          11.689753    -5.492004   -25.432495\n",
      "143  798.816772  748.427490           6.732687   -28.731689     7.492493\n",
      "144  807.284668  727.532471          10.962012     8.467896   -20.895020\n",
      "145  783.663208  734.852478           6.642249   -23.621460     7.320007\n",
      "\n",
      "[146 rows x 5 columns]\n"
     ]
    }
   ],
   "source": [
    "d = {'real':inv_y, 'pred':inv_yhat}\n",
    "pred = DataFrame(data=d)\n",
    "pred['percentage change'] = (((pred['pred'] - pred['real'])/(pred['real']))*100)\n",
    "pred['pred_change'] = pred.pred.diff().fillna(0)\n",
    "pred['real_change'] = pred.real.diff().fillna(0)\n",
    "print(pred)"
   ]
  },
  {
   "cell_type": "markdown",
   "metadata": {
    "collapsed": true
   },
   "source": [
    "Calculate acurracy:\n",
    "\n",
    "\\begin{equation*}\n",
    "Accuracy = \\frac{TP+TN}{(TP + TN + TP + TN)}\n",
    "\\end{equation*}"
   ]
  },
  {
   "cell_type": "code",
   "execution_count": 16,
   "metadata": {
    "collapsed": false
   },
   "outputs": [
    {
     "name": "stdout",
     "output_type": "stream",
     "text": [
      "Accuracy of correct direction prediction (up/down):  59.589041095890416\n"
     ]
    }
   ],
   "source": [
    "def accuracy(df):\n",
    "    count = 0\n",
    "    for index, row in pred.iterrows():\n",
    "        if row['pred_change'] < 0 and row['real_change'] < 0 or row['pred_change'] > 0 and row['real_change'] > 0:\n",
    "            count += 1\n",
    "    return count/len(df)*100\n",
    "\n",
    "print('Accuracy of correct direction prediction (up/down): ', accuracy(pred))"
   ]
  },
  {
   "cell_type": "markdown",
   "metadata": {
    "collapsed": true
   },
   "source": [
    "Calculate F1-score by creating classes"
   ]
  },
  {
   "cell_type": "code",
   "execution_count": 17,
   "metadata": {
    "collapsed": false
   },
   "outputs": [
    {
     "name": "stdout",
     "output_type": "stream",
     "text": [
      "The F1 score: 67.04545454545455\n"
     ]
    }
   ],
   "source": [
    "def f1_score(df):\n",
    "    TN = 0\n",
    "    TP = 0\n",
    "    FN = 0\n",
    "    FP = 0\n",
    "    for index, row in pred.iterrows():\n",
    "            if row['pred_change'] < 0 and row['real_change'] < 0: \n",
    "                TN += 1\n",
    "            elif row['pred_change'] > 0 and row['real_change'] > 0:\n",
    "                TP += 1\n",
    "            elif row['pred_change'] < 0 and row['real_change'] > 0:\n",
    "                FN += 1\n",
    "            elif row['pred_change'] > 0 and row['real_change'] < 0:\n",
    "                FP += 1\n",
    "\n",
    "    precision = TP/(TP+FP)\n",
    "    recall = TP/(TP+FN)\n",
    "    f1 = 2*((recall*precision)/(recall + precision))\n",
    "    return f1*100\n",
    "\n",
    "print('The F1 score:',f1_score(df))"
   ]
  },
  {
   "cell_type": "code",
   "execution_count": null,
   "metadata": {
    "collapsed": true
   },
   "outputs": [],
   "source": []
  }
 ],
 "metadata": {
  "anaconda-cloud": {},
  "kernelspec": {
   "display_name": "Python [default]",
   "language": "python",
   "name": "python3"
  },
  "language_info": {
   "codemirror_mode": {
    "name": "ipython",
    "version": 3
   },
   "file_extension": ".py",
   "mimetype": "text/x-python",
   "name": "python",
   "nbconvert_exporter": "python",
   "pygments_lexer": "ipython3",
   "version": "3.5.2"
  }
 },
 "nbformat": 4,
 "nbformat_minor": 2
}
